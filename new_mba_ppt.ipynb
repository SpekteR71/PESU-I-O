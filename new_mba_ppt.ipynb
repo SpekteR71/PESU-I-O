{
 "cells": [
  {
   "cell_type": "code",
   "execution_count": 44,
   "metadata": {},
   "outputs": [],
   "source": [
    "import pandas as pd\n",
    "import numpy as np\n",
    "import datetime\n",
    "from statistics import correlation"
   ]
  },
  {
   "cell_type": "code",
   "execution_count": 45,
   "metadata": {},
   "outputs": [
    {
     "name": "stderr",
     "output_type": "stream",
     "text": [
      "c:\\Users\\ragha\\AppData\\Local\\Programs\\Python\\Python310\\lib\\site-packages\\openpyxl\\styles\\stylesheet.py:226: UserWarning: Workbook contains no default style, apply openpyxl's default\n",
      "  warn(\"Workbook contains no default style, apply openpyxl's default\")\n"
     ]
    },
    {
     "data": {
      "text/html": [
       "<div>\n",
       "<style scoped>\n",
       "    .dataframe tbody tr th:only-of-type {\n",
       "        vertical-align: middle;\n",
       "    }\n",
       "\n",
       "    .dataframe tbody tr th {\n",
       "        vertical-align: top;\n",
       "    }\n",
       "\n",
       "    .dataframe thead th {\n",
       "        text-align: right;\n",
       "    }\n",
       "</style>\n",
       "<table border=\"1\" class=\"dataframe\">\n",
       "  <thead>\n",
       "    <tr style=\"text-align: right;\">\n",
       "      <th></th>\n",
       "      <th>SubjectCode</th>\n",
       "      <th>QuestionPaperName</th>\n",
       "      <th>QuestionSerialNumber</th>\n",
       "      <th>Marks</th>\n",
       "      <th>StudentScore</th>\n",
       "      <th>TimeSpentInSeconds</th>\n",
       "      <th>LoginId</th>\n",
       "      <th>SRN</th>\n",
       "    </tr>\n",
       "  </thead>\n",
       "  <tbody>\n",
       "    <tr>\n",
       "      <th>0</th>\n",
       "      <td>MBAPPT</td>\n",
       "      <td>PPTMBA1 MBA -APTITUDE - PPT-1 (set- 1)</td>\n",
       "      <td>1</td>\n",
       "      <td>1</td>\n",
       "      <td>-1</td>\n",
       "      <td>7</td>\n",
       "      <td>PES1202100158</td>\n",
       "      <td>PES1UG21BB046</td>\n",
       "    </tr>\n",
       "    <tr>\n",
       "      <th>1</th>\n",
       "      <td>MBAPPT</td>\n",
       "      <td>PPTMBA1 MBA -APTITUDE - PPT-1 (set- 1)</td>\n",
       "      <td>2</td>\n",
       "      <td>1</td>\n",
       "      <td>-1</td>\n",
       "      <td>9</td>\n",
       "      <td>PES1202100158</td>\n",
       "      <td>PES1UG21BB046</td>\n",
       "    </tr>\n",
       "    <tr>\n",
       "      <th>2</th>\n",
       "      <td>MBAPPT</td>\n",
       "      <td>PPTMBA1 MBA -APTITUDE - PPT-1 (set- 1)</td>\n",
       "      <td>3</td>\n",
       "      <td>1</td>\n",
       "      <td>1</td>\n",
       "      <td>5</td>\n",
       "      <td>PES1202100158</td>\n",
       "      <td>PES1UG21BB046</td>\n",
       "    </tr>\n",
       "    <tr>\n",
       "      <th>3</th>\n",
       "      <td>MBAPPT</td>\n",
       "      <td>PPTMBA1 MBA -APTITUDE - PPT-1 (set- 1)</td>\n",
       "      <td>4</td>\n",
       "      <td>1</td>\n",
       "      <td>-1</td>\n",
       "      <td>7</td>\n",
       "      <td>PES1202100158</td>\n",
       "      <td>PES1UG21BB046</td>\n",
       "    </tr>\n",
       "    <tr>\n",
       "      <th>4</th>\n",
       "      <td>MBAPPT</td>\n",
       "      <td>PPTMBA1 MBA -APTITUDE - PPT-1 (set- 1)</td>\n",
       "      <td>5</td>\n",
       "      <td>1</td>\n",
       "      <td>-1</td>\n",
       "      <td>18</td>\n",
       "      <td>PES1202100158</td>\n",
       "      <td>PES1UG21BB046</td>\n",
       "    </tr>\n",
       "    <tr>\n",
       "      <th>...</th>\n",
       "      <td>...</td>\n",
       "      <td>...</td>\n",
       "      <td>...</td>\n",
       "      <td>...</td>\n",
       "      <td>...</td>\n",
       "      <td>...</td>\n",
       "      <td>...</td>\n",
       "      <td>...</td>\n",
       "    </tr>\n",
       "    <tr>\n",
       "      <th>19495</th>\n",
       "      <td>MBAPPT</td>\n",
       "      <td>PPTMBA1 MBA -APTITUDE - PPT-1 (set- 1)</td>\n",
       "      <td>46</td>\n",
       "      <td>1</td>\n",
       "      <td>0</td>\n",
       "      <td>0</td>\n",
       "      <td>S1230</td>\n",
       "      <td>S1230</td>\n",
       "    </tr>\n",
       "    <tr>\n",
       "      <th>19496</th>\n",
       "      <td>MBAPPT</td>\n",
       "      <td>PPTMBA1 MBA -APTITUDE - PPT-1 (set- 1)</td>\n",
       "      <td>47</td>\n",
       "      <td>1</td>\n",
       "      <td>0</td>\n",
       "      <td>0</td>\n",
       "      <td>S1230</td>\n",
       "      <td>S1230</td>\n",
       "    </tr>\n",
       "    <tr>\n",
       "      <th>19497</th>\n",
       "      <td>MBAPPT</td>\n",
       "      <td>PPTMBA1 MBA -APTITUDE - PPT-1 (set- 1)</td>\n",
       "      <td>48</td>\n",
       "      <td>1</td>\n",
       "      <td>0</td>\n",
       "      <td>0</td>\n",
       "      <td>S1230</td>\n",
       "      <td>S1230</td>\n",
       "    </tr>\n",
       "    <tr>\n",
       "      <th>19498</th>\n",
       "      <td>MBAPPT</td>\n",
       "      <td>PPTMBA1 MBA -APTITUDE - PPT-1 (set- 1)</td>\n",
       "      <td>49</td>\n",
       "      <td>1</td>\n",
       "      <td>0</td>\n",
       "      <td>1</td>\n",
       "      <td>S1230</td>\n",
       "      <td>S1230</td>\n",
       "    </tr>\n",
       "    <tr>\n",
       "      <th>19499</th>\n",
       "      <td>MBAPPT</td>\n",
       "      <td>PPTMBA1 MBA -APTITUDE - PPT-1 (set- 1)</td>\n",
       "      <td>50</td>\n",
       "      <td>1</td>\n",
       "      <td>0</td>\n",
       "      <td>0</td>\n",
       "      <td>S1230</td>\n",
       "      <td>S1230</td>\n",
       "    </tr>\n",
       "  </tbody>\n",
       "</table>\n",
       "<p>19500 rows × 8 columns</p>\n",
       "</div>"
      ],
      "text/plain": [
       "      SubjectCode                       QuestionPaperName  \\\n",
       "0          MBAPPT  PPTMBA1 MBA -APTITUDE - PPT-1 (set- 1)   \n",
       "1          MBAPPT  PPTMBA1 MBA -APTITUDE - PPT-1 (set- 1)   \n",
       "2          MBAPPT  PPTMBA1 MBA -APTITUDE - PPT-1 (set- 1)   \n",
       "3          MBAPPT  PPTMBA1 MBA -APTITUDE - PPT-1 (set- 1)   \n",
       "4          MBAPPT  PPTMBA1 MBA -APTITUDE - PPT-1 (set- 1)   \n",
       "...           ...                                     ...   \n",
       "19495      MBAPPT  PPTMBA1 MBA -APTITUDE - PPT-1 (set- 1)   \n",
       "19496      MBAPPT  PPTMBA1 MBA -APTITUDE - PPT-1 (set- 1)   \n",
       "19497      MBAPPT  PPTMBA1 MBA -APTITUDE - PPT-1 (set- 1)   \n",
       "19498      MBAPPT  PPTMBA1 MBA -APTITUDE - PPT-1 (set- 1)   \n",
       "19499      MBAPPT  PPTMBA1 MBA -APTITUDE - PPT-1 (set- 1)   \n",
       "\n",
       "        QuestionSerialNumber   Marks   StudentScore   TimeSpentInSeconds  \\\n",
       "0                          1       1             -1                    7   \n",
       "1                          2       1             -1                    9   \n",
       "2                          3       1              1                    5   \n",
       "3                          4       1             -1                    7   \n",
       "4                          5       1             -1                   18   \n",
       "...                      ...     ...            ...                  ...   \n",
       "19495                     46       1              0                    0   \n",
       "19496                     47       1              0                    0   \n",
       "19497                     48       1              0                    0   \n",
       "19498                     49       1              0                    1   \n",
       "19499                     50       1              0                    0   \n",
       "\n",
       "             LoginId            SRN  \n",
       "0      PES1202100158  PES1UG21BB046  \n",
       "1      PES1202100158  PES1UG21BB046  \n",
       "2      PES1202100158  PES1UG21BB046  \n",
       "3      PES1202100158  PES1UG21BB046  \n",
       "4      PES1202100158  PES1UG21BB046  \n",
       "...              ...            ...  \n",
       "19495          S1230          S1230  \n",
       "19496          S1230          S1230  \n",
       "19497          S1230          S1230  \n",
       "19498          S1230          S1230  \n",
       "19499          S1230          S1230  \n",
       "\n",
       "[19500 rows x 8 columns]"
      ]
     },
     "execution_count": 45,
     "metadata": {},
     "output_type": "execute_result"
    }
   ],
   "source": [
    "df = pd.read_excel(\"C:\\CLG\\PESU IO\\MBA PPT\\MBA PPT 4-2-2023.xlsx\")\n",
    "df"
   ]
  },
  {
   "cell_type": "code",
   "execution_count": 46,
   "metadata": {},
   "outputs": [
    {
     "name": "stdout",
     "output_type": "stream",
     "text": [
      "Total number of students who took the test =  361\n"
     ]
    }
   ],
   "source": [
    "unique_SRN = df[\" SRN\"].unique()    #SRN has a space before S\n",
    "#unique_SRN\n",
    "print(\"Total number of students who took the test = \", len(unique_SRN))"
   ]
  },
  {
   "cell_type": "code",
   "execution_count": 47,
   "metadata": {},
   "outputs": [
    {
     "data": {
      "text/html": [
       "<div>\n",
       "<style scoped>\n",
       "    .dataframe tbody tr th:only-of-type {\n",
       "        vertical-align: middle;\n",
       "    }\n",
       "\n",
       "    .dataframe tbody tr th {\n",
       "        vertical-align: top;\n",
       "    }\n",
       "\n",
       "    .dataframe thead th {\n",
       "        text-align: right;\n",
       "    }\n",
       "</style>\n",
       "<table border=\"1\" class=\"dataframe\">\n",
       "  <thead>\n",
       "    <tr style=\"text-align: right;\">\n",
       "      <th></th>\n",
       "      <th>QuestionSerialNumber</th>\n",
       "      <th>StudentScore</th>\n",
       "      <th>TimeSpentInSeconds</th>\n",
       "      <th>LoginId</th>\n",
       "      <th>SRN</th>\n",
       "    </tr>\n",
       "  </thead>\n",
       "  <tbody>\n",
       "    <tr>\n",
       "      <th>0</th>\n",
       "      <td>1</td>\n",
       "      <td>-1</td>\n",
       "      <td>7</td>\n",
       "      <td>PES1202100158</td>\n",
       "      <td>PES1UG21BB046</td>\n",
       "    </tr>\n",
       "    <tr>\n",
       "      <th>1</th>\n",
       "      <td>2</td>\n",
       "      <td>-1</td>\n",
       "      <td>9</td>\n",
       "      <td>PES1202100158</td>\n",
       "      <td>PES1UG21BB046</td>\n",
       "    </tr>\n",
       "    <tr>\n",
       "      <th>2</th>\n",
       "      <td>3</td>\n",
       "      <td>1</td>\n",
       "      <td>5</td>\n",
       "      <td>PES1202100158</td>\n",
       "      <td>PES1UG21BB046</td>\n",
       "    </tr>\n",
       "    <tr>\n",
       "      <th>3</th>\n",
       "      <td>4</td>\n",
       "      <td>-1</td>\n",
       "      <td>7</td>\n",
       "      <td>PES1202100158</td>\n",
       "      <td>PES1UG21BB046</td>\n",
       "    </tr>\n",
       "    <tr>\n",
       "      <th>4</th>\n",
       "      <td>5</td>\n",
       "      <td>-1</td>\n",
       "      <td>18</td>\n",
       "      <td>PES1202100158</td>\n",
       "      <td>PES1UG21BB046</td>\n",
       "    </tr>\n",
       "    <tr>\n",
       "      <th>...</th>\n",
       "      <td>...</td>\n",
       "      <td>...</td>\n",
       "      <td>...</td>\n",
       "      <td>...</td>\n",
       "      <td>...</td>\n",
       "    </tr>\n",
       "    <tr>\n",
       "      <th>19495</th>\n",
       "      <td>46</td>\n",
       "      <td>0</td>\n",
       "      <td>0</td>\n",
       "      <td>S1230</td>\n",
       "      <td>S1230</td>\n",
       "    </tr>\n",
       "    <tr>\n",
       "      <th>19496</th>\n",
       "      <td>47</td>\n",
       "      <td>0</td>\n",
       "      <td>0</td>\n",
       "      <td>S1230</td>\n",
       "      <td>S1230</td>\n",
       "    </tr>\n",
       "    <tr>\n",
       "      <th>19497</th>\n",
       "      <td>48</td>\n",
       "      <td>0</td>\n",
       "      <td>0</td>\n",
       "      <td>S1230</td>\n",
       "      <td>S1230</td>\n",
       "    </tr>\n",
       "    <tr>\n",
       "      <th>19498</th>\n",
       "      <td>49</td>\n",
       "      <td>0</td>\n",
       "      <td>1</td>\n",
       "      <td>S1230</td>\n",
       "      <td>S1230</td>\n",
       "    </tr>\n",
       "    <tr>\n",
       "      <th>19499</th>\n",
       "      <td>50</td>\n",
       "      <td>0</td>\n",
       "      <td>0</td>\n",
       "      <td>S1230</td>\n",
       "      <td>S1230</td>\n",
       "    </tr>\n",
       "  </tbody>\n",
       "</table>\n",
       "<p>19500 rows × 5 columns</p>\n",
       "</div>"
      ],
      "text/plain": [
       "        QuestionSerialNumber   StudentScore   TimeSpentInSeconds  \\\n",
       "0                          1             -1                    7   \n",
       "1                          2             -1                    9   \n",
       "2                          3              1                    5   \n",
       "3                          4             -1                    7   \n",
       "4                          5             -1                   18   \n",
       "...                      ...            ...                  ...   \n",
       "19495                     46              0                    0   \n",
       "19496                     47              0                    0   \n",
       "19497                     48              0                    0   \n",
       "19498                     49              0                    1   \n",
       "19499                     50              0                    0   \n",
       "\n",
       "             LoginId            SRN  \n",
       "0      PES1202100158  PES1UG21BB046  \n",
       "1      PES1202100158  PES1UG21BB046  \n",
       "2      PES1202100158  PES1UG21BB046  \n",
       "3      PES1202100158  PES1UG21BB046  \n",
       "4      PES1202100158  PES1UG21BB046  \n",
       "...              ...            ...  \n",
       "19495          S1230          S1230  \n",
       "19496          S1230          S1230  \n",
       "19497          S1230          S1230  \n",
       "19498          S1230          S1230  \n",
       "19499          S1230          S1230  \n",
       "\n",
       "[19500 rows x 5 columns]"
      ]
     },
     "execution_count": 47,
     "metadata": {},
     "output_type": "execute_result"
    }
   ],
   "source": [
    "df = df.drop(columns = [\" Marks\",\" QuestionPaperName\", \"SubjectCode\"])\n",
    "df"
   ]
  },
  {
   "cell_type": "code",
   "execution_count": 48,
   "metadata": {},
   "outputs": [
    {
     "name": "stdout",
     "output_type": "stream",
     "text": [
      "[33, 249, 11, 66, 0]\n"
     ]
    }
   ],
   "source": [
    "mba_attendance = 0\n",
    "bba_attendance = 0\n",
    "psych_attendance = 0\n",
    "misc_attendance = 0\n",
    "bcom_attendance = 0\n",
    "\n",
    "#print(unique_SRN[1][8])\n",
    "'''\n",
    "for i in range(len(unique_SRN)):\n",
    "    if unique_SRN[i][8] == \"B\" and unique_SRN[i][9] == \"B\":\n",
    "        bba_attendance += 1\n",
    "    elif unique_SRN[i][8] == \"B\" and unique_SRN[i][9] == \"C\":\n",
    "        bcom_attendance += 1\n",
    "    elif unique_SRN[i][8] == \"M\" and unique_SRN[i][9] == \"B\":\n",
    "        mba_attendance += 1\n",
    "    elif unique_SRN[i][8] == \"P\" and unique_SRN[i][9] == \"Y\":\n",
    "        psych_attendance += 1\n",
    "    elif unique_SRN[i][8].isdigit() and unique_SRN[i][9].isdigit():\n",
    "        misc_attendance +=1 \n",
    "\n",
    "counter = [bba_attendance, bcom_attendance, mba_attendance, psych_attendance, misc_attendance]\n",
    "counter\n",
    "'''\n",
    "\n",
    "for i in range(len(unique_SRN)):\n",
    "    if \"BB\" in unique_SRN[i]:\n",
    "        bba_attendance += 1\n",
    "    elif \"BC\" in unique_SRN[i]:\n",
    "        bcom_attendance += 1\n",
    "    elif \"MB\" in unique_SRN[i]:\n",
    "        mba_attendance += 1\n",
    "    elif \"PY\" in unique_SRN[i]:\n",
    "        psych_attendance += 1\n",
    "\n",
    "counter = [bba_attendance, bcom_attendance, mba_attendance, psych_attendance, misc_attendance]\n",
    "print(counter)   \n"
   ]
  },
  {
   "cell_type": "code",
   "execution_count": 49,
   "metadata": {},
   "outputs": [
    {
     "name": "stdout",
     "output_type": "stream",
     "text": [
      "PES1UG21BB046\n"
     ]
    }
   ],
   "source": [
    "print(df[\" SRN\"][9])"
   ]
  },
  {
   "attachments": {},
   "cell_type": "markdown",
   "metadata": {},
   "source": [
    "BCOM Report begins"
   ]
  },
  {
   "cell_type": "code",
   "execution_count": 50,
   "metadata": {},
   "outputs": [
    {
     "data": {
      "text/html": [
       "<div>\n",
       "<style scoped>\n",
       "    .dataframe tbody tr th:only-of-type {\n",
       "        vertical-align: middle;\n",
       "    }\n",
       "\n",
       "    .dataframe tbody tr th {\n",
       "        vertical-align: top;\n",
       "    }\n",
       "\n",
       "    .dataframe thead th {\n",
       "        text-align: right;\n",
       "    }\n",
       "</style>\n",
       "<table border=\"1\" class=\"dataframe\">\n",
       "  <thead>\n",
       "    <tr style=\"text-align: right;\">\n",
       "      <th></th>\n",
       "      <th>QuestionSerialNumber</th>\n",
       "      <th>StudentScore</th>\n",
       "      <th>TimeSpentInSeconds</th>\n",
       "      <th>LoginId</th>\n",
       "      <th>srn</th>\n",
       "    </tr>\n",
       "  </thead>\n",
       "  <tbody>\n",
       "    <tr>\n",
       "      <th>900</th>\n",
       "      <td>1</td>\n",
       "      <td>-1</td>\n",
       "      <td>41</td>\n",
       "      <td>PES1202200157</td>\n",
       "      <td>PES1UG22BC123</td>\n",
       "    </tr>\n",
       "    <tr>\n",
       "      <th>901</th>\n",
       "      <td>2</td>\n",
       "      <td>-1</td>\n",
       "      <td>56</td>\n",
       "      <td>PES1202200157</td>\n",
       "      <td>PES1UG22BC123</td>\n",
       "    </tr>\n",
       "    <tr>\n",
       "      <th>902</th>\n",
       "      <td>3</td>\n",
       "      <td>1</td>\n",
       "      <td>27</td>\n",
       "      <td>PES1202200157</td>\n",
       "      <td>PES1UG22BC123</td>\n",
       "    </tr>\n",
       "    <tr>\n",
       "      <th>903</th>\n",
       "      <td>4</td>\n",
       "      <td>1</td>\n",
       "      <td>14</td>\n",
       "      <td>PES1202200157</td>\n",
       "      <td>PES1UG22BC123</td>\n",
       "    </tr>\n",
       "    <tr>\n",
       "      <th>904</th>\n",
       "      <td>5</td>\n",
       "      <td>1</td>\n",
       "      <td>23</td>\n",
       "      <td>PES1202200157</td>\n",
       "      <td>PES1UG22BC123</td>\n",
       "    </tr>\n",
       "    <tr>\n",
       "      <th>...</th>\n",
       "      <td>...</td>\n",
       "      <td>...</td>\n",
       "      <td>...</td>\n",
       "      <td>...</td>\n",
       "      <td>...</td>\n",
       "    </tr>\n",
       "    <tr>\n",
       "      <th>19445</th>\n",
       "      <td>46</td>\n",
       "      <td>-1</td>\n",
       "      <td>36</td>\n",
       "      <td>PES3202200152</td>\n",
       "      <td>PES3UG21BC005</td>\n",
       "    </tr>\n",
       "    <tr>\n",
       "      <th>19446</th>\n",
       "      <td>47</td>\n",
       "      <td>-1</td>\n",
       "      <td>107</td>\n",
       "      <td>PES3202200152</td>\n",
       "      <td>PES3UG21BC005</td>\n",
       "    </tr>\n",
       "    <tr>\n",
       "      <th>19447</th>\n",
       "      <td>48</td>\n",
       "      <td>1</td>\n",
       "      <td>83</td>\n",
       "      <td>PES3202200152</td>\n",
       "      <td>PES3UG21BC005</td>\n",
       "    </tr>\n",
       "    <tr>\n",
       "      <th>19448</th>\n",
       "      <td>49</td>\n",
       "      <td>1</td>\n",
       "      <td>78</td>\n",
       "      <td>PES3202200152</td>\n",
       "      <td>PES3UG21BC005</td>\n",
       "    </tr>\n",
       "    <tr>\n",
       "      <th>19449</th>\n",
       "      <td>50</td>\n",
       "      <td>1</td>\n",
       "      <td>84</td>\n",
       "      <td>PES3202200152</td>\n",
       "      <td>PES3UG21BC005</td>\n",
       "    </tr>\n",
       "  </tbody>\n",
       "</table>\n",
       "<p>12450 rows × 5 columns</p>\n",
       "</div>"
      ],
      "text/plain": [
       "        QuestionSerialNumber   StudentScore   TimeSpentInSeconds  \\\n",
       "900                        1             -1                   41   \n",
       "901                        2             -1                   56   \n",
       "902                        3              1                   27   \n",
       "903                        4              1                   14   \n",
       "904                        5              1                   23   \n",
       "...                      ...            ...                  ...   \n",
       "19445                     46             -1                   36   \n",
       "19446                     47             -1                  107   \n",
       "19447                     48              1                   83   \n",
       "19448                     49              1                   78   \n",
       "19449                     50              1                   84   \n",
       "\n",
       "             LoginId            srn  \n",
       "900    PES1202200157  PES1UG22BC123  \n",
       "901    PES1202200157  PES1UG22BC123  \n",
       "902    PES1202200157  PES1UG22BC123  \n",
       "903    PES1202200157  PES1UG22BC123  \n",
       "904    PES1202200157  PES1UG22BC123  \n",
       "...              ...            ...  \n",
       "19445  PES3202200152  PES3UG21BC005  \n",
       "19446  PES3202200152  PES3UG21BC005  \n",
       "19447  PES3202200152  PES3UG21BC005  \n",
       "19448  PES3202200152  PES3UG21BC005  \n",
       "19449  PES3202200152  PES3UG21BC005  \n",
       "\n",
       "[12450 rows x 5 columns]"
      ]
     },
     "execution_count": 50,
     "metadata": {},
     "output_type": "execute_result"
    }
   ],
   "source": [
    "#df.rename(columns = {\" SRN\", \"srn\"}, inplace = True )\n",
    "#df[\" SRN\"]\n",
    "\n",
    "df.columns = df.columns.str.replace(\" SRN\", \"srn\")\n",
    "#df\n",
    "\n",
    "df2 = pd.DataFrame()\n",
    "BC_df = df[df.srn.str.contains(\"BC\", case = False)].copy(deep = True)\n",
    "BC_df\n"
   ]
  },
  {
   "cell_type": "code",
   "execution_count": 51,
   "metadata": {},
   "outputs": [
    {
     "data": {
      "text/plain": [
       "'0:23:33'"
      ]
     },
     "execution_count": 51,
     "metadata": {},
     "output_type": "execute_result"
    }
   ],
   "source": [
    "def convert(seconds):\n",
    "    seconds = seconds % (24 * 3600)\n",
    "    hour = seconds // 3600\n",
    "    seconds %= 3600\n",
    "    minutes = seconds // 60\n",
    "    seconds %= 60\n",
    "     \n",
    "    return \"%d:%02d:%02d\" % (hour, minutes, seconds)\n",
    "\n",
    "bc_time = BC_df[\" TimeSpentInSeconds\"].sum()\n",
    "bc_time_in_sec = bc_time/len(unique_SRN)\n",
    "convert(bc_time_in_sec)\n"
   ]
  },
  {
   "cell_type": "code",
   "execution_count": 52,
   "metadata": {},
   "outputs": [
    {
     "name": "stdout",
     "output_type": "stream",
     "text": [
      "The number of BCom students who took the test = 249\n"
     ]
    }
   ],
   "source": [
    "unique__BC_SRN = BC_df[\"srn\"].unique()\n",
    "print(\"The number of BCom students who took the test = \" +  str(len(unique__BC_SRN)))"
   ]
  },
  {
   "cell_type": "code",
   "execution_count": 53,
   "metadata": {},
   "outputs": [
    {
     "data": {
      "text/plain": [
       "15.69"
      ]
     },
     "execution_count": 53,
     "metadata": {},
     "output_type": "execute_result"
    }
   ],
   "source": [
    "bc_total_score = BC_df[\" StudentScore\"].sum()\n",
    "\n",
    "bc_average_score = round(bc_total_score/len(unique__BC_SRN),2)\n",
    "bc_average_score"
   ]
  },
  {
   "cell_type": "code",
   "execution_count": 54,
   "metadata": {},
   "outputs": [
    {
     "name": "stderr",
     "output_type": "stream",
     "text": [
      "C:\\Users\\ragha\\AppData\\Local\\Temp\\ipykernel_17368\\2952952404.py:1: FutureWarning: The default value of numeric_only in DataFrameGroupBy.sum is deprecated. In a future version, numeric_only will default to False. Either specify numeric_only or select only columns which should be valid for the function.\n",
      "  bc_df_g = BC_df.groupby(\" LoginId\", as_index = False ).sum()\n"
     ]
    },
    {
     "data": {
      "text/plain": [
       " LoginId               PES1202201746\n",
       " StudentScore                     49\n",
       " TimeSpentInSeconds             1955\n",
       "Name: 76, dtype: object"
      ]
     },
     "execution_count": 54,
     "metadata": {},
     "output_type": "execute_result"
    }
   ],
   "source": [
    "bc_df_g = BC_df.groupby(\" LoginId\", as_index = False ).sum()\n",
    "#bc_df_g\n",
    "bc_df_g = bc_df_g.drop(columns = [\" QuestionSerialNumber\"])\n",
    "\n",
    "bc_top_scorer = bc_df_g.loc[bc_df_g[\" StudentScore\"].idxmax()]\n",
    "bc_top_scorer\n"
   ]
  },
  {
   "cell_type": "code",
   "execution_count": 55,
   "metadata": {},
   "outputs": [
    {
     "data": {
      "text/plain": [
       " LoginId               PES3202100899\n",
       " StudentScore                    -35\n",
       " TimeSpentInSeconds             1253\n",
       "Name: 240, dtype: object"
      ]
     },
     "execution_count": 55,
     "metadata": {},
     "output_type": "execute_result"
    }
   ],
   "source": [
    "bc_lowest = bc_df_g.loc[bc_df_g[\" StudentScore\"].idxmin()]\n",
    "bc_lowest"
   ]
  },
  {
   "cell_type": "code",
   "execution_count": 56,
   "metadata": {},
   "outputs": [
    {
     "name": "stdout",
     "output_type": "stream",
     "text": [
      "0.515151577004486\n",
      "There exists a mild linear realtionship between time spent and marks scored.\n"
     ]
    }
   ],
   "source": [
    "bc_corrcoeff = np.corrcoef(bc_df_g[\" TimeSpentInSeconds\"], bc_df_g[\" StudentScore\"])\n",
    "bc_pcc = bc_corrcoeff[0][1]\n",
    "print(bc_pcc)\n",
    "if bc_pcc > -0.2 and bc_pcc < 0.2:\n",
    "    print(\"There exists a weak linear relationship between time spent and marks scored.\")\n",
    "elif (bc_pcc > 0.2 and bc_pcc < 0.7) or (bc_pcc > -0.7 and bc_pcc < -0.2):\n",
    "    print(\"There exists a mild linear realtionship between time spent and marks scored.\")     \n",
    "elif (bc_pcc <= 1 and bc_pcc > 0.7) or (bc_pcc > -1 and bc_pcc < -0.7):\n",
    "    print(\"There exist a strong linear relationship between time spent and marks scored.\")   \n",
    "    "
   ]
  },
  {
   "attachments": {},
   "cell_type": "markdown",
   "metadata": {},
   "source": [
    "BCom Report ends"
   ]
  },
  {
   "cell_type": "markdown",
   "metadata": {},
   "source": []
  },
  {
   "attachments": {},
   "cell_type": "markdown",
   "metadata": {},
   "source": [
    "BBA Report begins"
   ]
  },
  {
   "cell_type": "code",
   "execution_count": 57,
   "metadata": {},
   "outputs": [
    {
     "data": {
      "text/html": [
       "<div>\n",
       "<style scoped>\n",
       "    .dataframe tbody tr th:only-of-type {\n",
       "        vertical-align: middle;\n",
       "    }\n",
       "\n",
       "    .dataframe tbody tr th {\n",
       "        vertical-align: top;\n",
       "    }\n",
       "\n",
       "    .dataframe thead th {\n",
       "        text-align: right;\n",
       "    }\n",
       "</style>\n",
       "<table border=\"1\" class=\"dataframe\">\n",
       "  <thead>\n",
       "    <tr style=\"text-align: right;\">\n",
       "      <th></th>\n",
       "      <th>QuestionSerialNumber</th>\n",
       "      <th>StudentScore</th>\n",
       "      <th>TimeSpentInSeconds</th>\n",
       "      <th>LoginId</th>\n",
       "      <th>srn</th>\n",
       "    </tr>\n",
       "  </thead>\n",
       "  <tbody>\n",
       "    <tr>\n",
       "      <th>0</th>\n",
       "      <td>1</td>\n",
       "      <td>-1</td>\n",
       "      <td>7</td>\n",
       "      <td>PES1202100158</td>\n",
       "      <td>PES1UG21BB046</td>\n",
       "    </tr>\n",
       "    <tr>\n",
       "      <th>1</th>\n",
       "      <td>2</td>\n",
       "      <td>-1</td>\n",
       "      <td>9</td>\n",
       "      <td>PES1202100158</td>\n",
       "      <td>PES1UG21BB046</td>\n",
       "    </tr>\n",
       "    <tr>\n",
       "      <th>2</th>\n",
       "      <td>3</td>\n",
       "      <td>1</td>\n",
       "      <td>5</td>\n",
       "      <td>PES1202100158</td>\n",
       "      <td>PES1UG21BB046</td>\n",
       "    </tr>\n",
       "    <tr>\n",
       "      <th>3</th>\n",
       "      <td>4</td>\n",
       "      <td>-1</td>\n",
       "      <td>7</td>\n",
       "      <td>PES1202100158</td>\n",
       "      <td>PES1UG21BB046</td>\n",
       "    </tr>\n",
       "    <tr>\n",
       "      <th>4</th>\n",
       "      <td>5</td>\n",
       "      <td>-1</td>\n",
       "      <td>18</td>\n",
       "      <td>PES1202100158</td>\n",
       "      <td>PES1UG21BB046</td>\n",
       "    </tr>\n",
       "    <tr>\n",
       "      <th>...</th>\n",
       "      <td>...</td>\n",
       "      <td>...</td>\n",
       "      <td>...</td>\n",
       "      <td>...</td>\n",
       "      <td>...</td>\n",
       "    </tr>\n",
       "    <tr>\n",
       "      <th>8995</th>\n",
       "      <td>46</td>\n",
       "      <td>1</td>\n",
       "      <td>18</td>\n",
       "      <td>PES1202201998</td>\n",
       "      <td>PES1UG22BB018</td>\n",
       "    </tr>\n",
       "    <tr>\n",
       "      <th>8996</th>\n",
       "      <td>47</td>\n",
       "      <td>-1</td>\n",
       "      <td>23</td>\n",
       "      <td>PES1202201998</td>\n",
       "      <td>PES1UG22BB018</td>\n",
       "    </tr>\n",
       "    <tr>\n",
       "      <th>8997</th>\n",
       "      <td>48</td>\n",
       "      <td>-1</td>\n",
       "      <td>4</td>\n",
       "      <td>PES1202201998</td>\n",
       "      <td>PES1UG22BB018</td>\n",
       "    </tr>\n",
       "    <tr>\n",
       "      <th>8998</th>\n",
       "      <td>49</td>\n",
       "      <td>-1</td>\n",
       "      <td>13</td>\n",
       "      <td>PES1202201998</td>\n",
       "      <td>PES1UG22BB018</td>\n",
       "    </tr>\n",
       "    <tr>\n",
       "      <th>8999</th>\n",
       "      <td>50</td>\n",
       "      <td>-1</td>\n",
       "      <td>11</td>\n",
       "      <td>PES1202201998</td>\n",
       "      <td>PES1UG22BB018</td>\n",
       "    </tr>\n",
       "  </tbody>\n",
       "</table>\n",
       "<p>1650 rows × 5 columns</p>\n",
       "</div>"
      ],
      "text/plain": [
       "       QuestionSerialNumber   StudentScore   TimeSpentInSeconds  \\\n",
       "0                         1             -1                    7   \n",
       "1                         2             -1                    9   \n",
       "2                         3              1                    5   \n",
       "3                         4             -1                    7   \n",
       "4                         5             -1                   18   \n",
       "...                     ...            ...                  ...   \n",
       "8995                     46              1                   18   \n",
       "8996                     47             -1                   23   \n",
       "8997                     48             -1                    4   \n",
       "8998                     49             -1                   13   \n",
       "8999                     50             -1                   11   \n",
       "\n",
       "            LoginId            srn  \n",
       "0     PES1202100158  PES1UG21BB046  \n",
       "1     PES1202100158  PES1UG21BB046  \n",
       "2     PES1202100158  PES1UG21BB046  \n",
       "3     PES1202100158  PES1UG21BB046  \n",
       "4     PES1202100158  PES1UG21BB046  \n",
       "...             ...            ...  \n",
       "8995  PES1202201998  PES1UG22BB018  \n",
       "8996  PES1202201998  PES1UG22BB018  \n",
       "8997  PES1202201998  PES1UG22BB018  \n",
       "8998  PES1202201998  PES1UG22BB018  \n",
       "8999  PES1202201998  PES1UG22BB018  \n",
       "\n",
       "[1650 rows x 5 columns]"
      ]
     },
     "execution_count": 57,
     "metadata": {},
     "output_type": "execute_result"
    }
   ],
   "source": [
    "BB_df = df[df.srn.str.contains(\"BB\", case = False)].copy(deep = True)\n",
    "BB_df\n"
   ]
  },
  {
   "cell_type": "code",
   "execution_count": 58,
   "metadata": {},
   "outputs": [
    {
     "name": "stdout",
     "output_type": "stream",
     "text": [
      "The number of BBA students who took the test = 33\n"
     ]
    }
   ],
   "source": [
    "unique__BB_SRN = BB_df[\"srn\"].unique()\n",
    "print(\"The number of BBA students who took the test = \" +  str(len(unique__BB_SRN)))"
   ]
  },
  {
   "cell_type": "code",
   "execution_count": 59,
   "metadata": {},
   "outputs": [
    {
     "data": {
      "text/plain": [
       "'0:38:23'"
      ]
     },
     "execution_count": 59,
     "metadata": {},
     "output_type": "execute_result"
    }
   ],
   "source": [
    "bb_time = BB_df[\" TimeSpentInSeconds\"].sum()\n",
    "bb_time_in_sec = bb_time/len(unique__BB_SRN)\n",
    "convert(bb_time_in_sec)"
   ]
  },
  {
   "cell_type": "code",
   "execution_count": 60,
   "metadata": {},
   "outputs": [
    {
     "data": {
      "text/plain": [
       "16.48"
      ]
     },
     "execution_count": 60,
     "metadata": {},
     "output_type": "execute_result"
    }
   ],
   "source": [
    "bb_total_score = BB_df[\" StudentScore\"].sum()\n",
    "\n",
    "bb_average_score = round(bb_total_score/len(unique__BB_SRN),2)\n",
    "bb_average_score"
   ]
  },
  {
   "cell_type": "code",
   "execution_count": 61,
   "metadata": {},
   "outputs": [
    {
     "name": "stderr",
     "output_type": "stream",
     "text": [
      "C:\\Users\\ragha\\AppData\\Local\\Temp\\ipykernel_17368\\225401130.py:1: FutureWarning: The default value of numeric_only in DataFrameGroupBy.sum is deprecated. In a future version, numeric_only will default to False. Either specify numeric_only or select only columns which should be valid for the function.\n",
      "  bb_df_g = BB_df.groupby(\" LoginId\", as_index = False ).sum()\n"
     ]
    },
    {
     "data": {
      "text/plain": [
       " LoginId               PES1202100455\n",
       " StudentScore                     46\n",
       " TimeSpentInSeconds             2458\n",
       "Name: 5, dtype: object"
      ]
     },
     "execution_count": 61,
     "metadata": {},
     "output_type": "execute_result"
    }
   ],
   "source": [
    "bb_df_g = BB_df.groupby(\" LoginId\", as_index = False ).sum()\n",
    "#bc_df_g\n",
    "bb_df_g = bb_df_g.drop(columns = [\" QuestionSerialNumber\"])\n",
    "\n",
    "bb_top_scorer = bb_df_g.loc[bb_df_g[\" StudentScore\"].idxmax()]\n",
    "bb_top_scorer\n"
   ]
  },
  {
   "cell_type": "code",
   "execution_count": 62,
   "metadata": {},
   "outputs": [
    {
     "data": {
      "text/plain": [
       " LoginId               PES1202201889\n",
       " StudentScore                    -30\n",
       " TimeSpentInSeconds              605\n",
       "Name: 30, dtype: object"
      ]
     },
     "execution_count": 62,
     "metadata": {},
     "output_type": "execute_result"
    }
   ],
   "source": [
    "bb_lowest = bb_df_g.loc[bb_df_g[\" StudentScore\"].idxmin()]\n",
    "bb_lowest"
   ]
  },
  {
   "cell_type": "code",
   "execution_count": 63,
   "metadata": {},
   "outputs": [
    {
     "name": "stdout",
     "output_type": "stream",
     "text": [
      "0.6792145744067836\n",
      "There exists a mild linear realtionship between time spent and marks scored.\n"
     ]
    }
   ],
   "source": [
    "bb_corrcoeff = np.corrcoef(bb_df_g[\" TimeSpentInSeconds\"], bb_df_g[\" StudentScore\"])\n",
    "bb_pcc = bb_corrcoeff[0][1]\n",
    "print(bb_pcc)\n",
    "if bb_pcc > -0.2 and bb_pcc < 0.2:\n",
    "    print(\"There exists a weak linear relationship between time spent and marks scored.\")\n",
    "elif (bb_pcc > 0.2 and bb_pcc < 0.7) or (bb_pcc > -0.7 and bb_pcc < -0.2):\n",
    "    print(\"There exists a mild linear realtionship between time spent and marks scored.\")     \n",
    "elif (bb_pcc <= 1 and bb_pcc > 0.7) or (bb_pcc > -1 and bb_pcc < -0.7):\n",
    "    print(\"There exist a strong linear relationship between time spent and marks scored.\")   \n",
    "    "
   ]
  },
  {
   "attachments": {},
   "cell_type": "markdown",
   "metadata": {},
   "source": [
    "BBA report ends"
   ]
  },
  {
   "cell_type": "markdown",
   "metadata": {},
   "source": []
  },
  {
   "attachments": {},
   "cell_type": "markdown",
   "metadata": {},
   "source": [
    "Psych Report Begins"
   ]
  },
  {
   "cell_type": "code",
   "execution_count": 64,
   "metadata": {},
   "outputs": [
    {
     "data": {
      "text/html": [
       "<div>\n",
       "<style scoped>\n",
       "    .dataframe tbody tr th:only-of-type {\n",
       "        vertical-align: middle;\n",
       "    }\n",
       "\n",
       "    .dataframe tbody tr th {\n",
       "        vertical-align: top;\n",
       "    }\n",
       "\n",
       "    .dataframe thead th {\n",
       "        text-align: right;\n",
       "    }\n",
       "</style>\n",
       "<table border=\"1\" class=\"dataframe\">\n",
       "  <thead>\n",
       "    <tr style=\"text-align: right;\">\n",
       "      <th></th>\n",
       "      <th>QuestionSerialNumber</th>\n",
       "      <th>StudentScore</th>\n",
       "      <th>TimeSpentInSeconds</th>\n",
       "      <th>LoginId</th>\n",
       "      <th>srn</th>\n",
       "    </tr>\n",
       "  </thead>\n",
       "  <tbody>\n",
       "    <tr>\n",
       "      <th>1750</th>\n",
       "      <td>1</td>\n",
       "      <td>-1</td>\n",
       "      <td>9</td>\n",
       "      <td>PES1202200249</td>\n",
       "      <td>PES1UG22PY001</td>\n",
       "    </tr>\n",
       "    <tr>\n",
       "      <th>1751</th>\n",
       "      <td>2</td>\n",
       "      <td>1</td>\n",
       "      <td>93</td>\n",
       "      <td>PES1202200249</td>\n",
       "      <td>PES1UG22PY001</td>\n",
       "    </tr>\n",
       "    <tr>\n",
       "      <th>1752</th>\n",
       "      <td>3</td>\n",
       "      <td>1</td>\n",
       "      <td>36</td>\n",
       "      <td>PES1202200249</td>\n",
       "      <td>PES1UG22PY001</td>\n",
       "    </tr>\n",
       "    <tr>\n",
       "      <th>1753</th>\n",
       "      <td>4</td>\n",
       "      <td>1</td>\n",
       "      <td>47</td>\n",
       "      <td>PES1202200249</td>\n",
       "      <td>PES1UG22PY001</td>\n",
       "    </tr>\n",
       "    <tr>\n",
       "      <th>1754</th>\n",
       "      <td>5</td>\n",
       "      <td>-1</td>\n",
       "      <td>89</td>\n",
       "      <td>PES1202200249</td>\n",
       "      <td>PES1UG22PY001</td>\n",
       "    </tr>\n",
       "    <tr>\n",
       "      <th>...</th>\n",
       "      <td>...</td>\n",
       "      <td>...</td>\n",
       "      <td>...</td>\n",
       "      <td>...</td>\n",
       "      <td>...</td>\n",
       "    </tr>\n",
       "    <tr>\n",
       "      <th>9495</th>\n",
       "      <td>46</td>\n",
       "      <td>1</td>\n",
       "      <td>36</td>\n",
       "      <td>PES1202202573</td>\n",
       "      <td>PES1UG22PY087</td>\n",
       "    </tr>\n",
       "    <tr>\n",
       "      <th>9496</th>\n",
       "      <td>47</td>\n",
       "      <td>1</td>\n",
       "      <td>70</td>\n",
       "      <td>PES1202202573</td>\n",
       "      <td>PES1UG22PY087</td>\n",
       "    </tr>\n",
       "    <tr>\n",
       "      <th>9497</th>\n",
       "      <td>48</td>\n",
       "      <td>1</td>\n",
       "      <td>67</td>\n",
       "      <td>PES1202202573</td>\n",
       "      <td>PES1UG22PY087</td>\n",
       "    </tr>\n",
       "    <tr>\n",
       "      <th>9498</th>\n",
       "      <td>49</td>\n",
       "      <td>-1</td>\n",
       "      <td>9</td>\n",
       "      <td>PES1202202573</td>\n",
       "      <td>PES1UG22PY087</td>\n",
       "    </tr>\n",
       "    <tr>\n",
       "      <th>9499</th>\n",
       "      <td>50</td>\n",
       "      <td>1</td>\n",
       "      <td>84</td>\n",
       "      <td>PES1202202573</td>\n",
       "      <td>PES1UG22PY087</td>\n",
       "    </tr>\n",
       "  </tbody>\n",
       "</table>\n",
       "<p>3300 rows × 5 columns</p>\n",
       "</div>"
      ],
      "text/plain": [
       "       QuestionSerialNumber   StudentScore   TimeSpentInSeconds  \\\n",
       "1750                      1             -1                    9   \n",
       "1751                      2              1                   93   \n",
       "1752                      3              1                   36   \n",
       "1753                      4              1                   47   \n",
       "1754                      5             -1                   89   \n",
       "...                     ...            ...                  ...   \n",
       "9495                     46              1                   36   \n",
       "9496                     47              1                   70   \n",
       "9497                     48              1                   67   \n",
       "9498                     49             -1                    9   \n",
       "9499                     50              1                   84   \n",
       "\n",
       "            LoginId            srn  \n",
       "1750  PES1202200249  PES1UG22PY001  \n",
       "1751  PES1202200249  PES1UG22PY001  \n",
       "1752  PES1202200249  PES1UG22PY001  \n",
       "1753  PES1202200249  PES1UG22PY001  \n",
       "1754  PES1202200249  PES1UG22PY001  \n",
       "...             ...            ...  \n",
       "9495  PES1202202573  PES1UG22PY087  \n",
       "9496  PES1202202573  PES1UG22PY087  \n",
       "9497  PES1202202573  PES1UG22PY087  \n",
       "9498  PES1202202573  PES1UG22PY087  \n",
       "9499  PES1202202573  PES1UG22PY087  \n",
       "\n",
       "[3300 rows x 5 columns]"
      ]
     },
     "execution_count": 64,
     "metadata": {},
     "output_type": "execute_result"
    }
   ],
   "source": [
    "PY_df = df[df.srn.str.contains(\"PY\", case = False)].copy(deep = True)\n",
    "PY_df"
   ]
  },
  {
   "cell_type": "code",
   "execution_count": 65,
   "metadata": {},
   "outputs": [
    {
     "name": "stdout",
     "output_type": "stream",
     "text": [
      "The number of Psychology students who took the test = 66\n"
     ]
    }
   ],
   "source": [
    "unique__PY_SRN = PY_df[\"srn\"].unique()\n",
    "print(\"The number of Psychology students who took the test = \" +  str(len(unique__PY_SRN)))"
   ]
  },
  {
   "cell_type": "code",
   "execution_count": 66,
   "metadata": {},
   "outputs": [
    {
     "data": {
      "text/plain": [
       "'0:40:10'"
      ]
     },
     "execution_count": 66,
     "metadata": {},
     "output_type": "execute_result"
    }
   ],
   "source": [
    "py_time = PY_df[\" TimeSpentInSeconds\"].sum()\n",
    "py_time_in_sec = py_time/len(unique__PY_SRN)\n",
    "convert(py_time_in_sec)"
   ]
  },
  {
   "cell_type": "code",
   "execution_count": 67,
   "metadata": {},
   "outputs": [
    {
     "data": {
      "text/plain": [
       "24.08"
      ]
     },
     "execution_count": 67,
     "metadata": {},
     "output_type": "execute_result"
    }
   ],
   "source": [
    "py_total_score = PY_df[\" StudentScore\"].sum()\n",
    "py_average_score = round(py_total_score/len(unique__PY_SRN),2)\n",
    "py_average_score"
   ]
  },
  {
   "cell_type": "code",
   "execution_count": 68,
   "metadata": {},
   "outputs": [
    {
     "name": "stderr",
     "output_type": "stream",
     "text": [
      "C:\\Users\\ragha\\AppData\\Local\\Temp\\ipykernel_17368\\1122515283.py:1: FutureWarning: The default value of numeric_only in DataFrameGroupBy.sum is deprecated. In a future version, numeric_only will default to False. Either specify numeric_only or select only columns which should be valid for the function.\n",
      "  py_df_g = PY_df.groupby(\" LoginId\", as_index = False ).sum()\n"
     ]
    },
    {
     "data": {
      "text/plain": [
       " LoginId               PES1202200506\n",
       " StudentScore                     48\n",
       " TimeSpentInSeconds             2506\n",
       "Name: 15, dtype: object"
      ]
     },
     "execution_count": 68,
     "metadata": {},
     "output_type": "execute_result"
    }
   ],
   "source": [
    "py_df_g = PY_df.groupby(\" LoginId\", as_index = False ).sum()\n",
    "#bc_df_g\n",
    "py_df_g = py_df_g.drop(columns = [\" QuestionSerialNumber\"])\n",
    "\n",
    "py_top_scorer = py_df_g.loc[py_df_g[\" StudentScore\"].idxmax()]\n",
    "py_top_scorer\n"
   ]
  },
  {
   "cell_type": "code",
   "execution_count": 69,
   "metadata": {},
   "outputs": [
    {
     "data": {
      "text/plain": [
       " LoginId               PES1202200502\n",
       " StudentScore                    -22\n",
       " TimeSpentInSeconds             1114\n",
       "Name: 14, dtype: object"
      ]
     },
     "execution_count": 69,
     "metadata": {},
     "output_type": "execute_result"
    }
   ],
   "source": [
    "py_lowest = py_df_g.loc[py_df_g[\" StudentScore\"].idxmin()]\n",
    "py_lowest"
   ]
  },
  {
   "cell_type": "code",
   "execution_count": 70,
   "metadata": {},
   "outputs": [
    {
     "name": "stdout",
     "output_type": "stream",
     "text": [
      "0.3954363345406444\n",
      "There exists a mild linear relationship between time spent and marks scored.\n"
     ]
    }
   ],
   "source": [
    "py_corrcoeff = np.corrcoef(py_df_g[\" TimeSpentInSeconds\"], py_df_g[\" StudentScore\"])\n",
    "py_pcc = py_corrcoeff[0][1]\n",
    "print(py_pcc)\n",
    "if py_pcc > -0.2 and py_pcc < 0.2:\n",
    "    print(\"There exists a weak linear relationship between time spent and marks scored.\")\n",
    "elif (py_pcc > 0.2 and py_pcc < 0.7) or (py_pcc > -0.7 and py_pcc < -0.2):\n",
    "    print(\"There exists a mild linear relationship between time spent and marks scored.\")     \n",
    "elif (py_pcc <= 1 and py_pcc > 0.7) or (py_pcc > -1 and py_pcc < -0.7):\n",
    "    print(\"There exist a strong linear relationship between time spent and marks scored.\")   \n",
    "    "
   ]
  },
  {
   "attachments": {},
   "cell_type": "markdown",
   "metadata": {},
   "source": [
    "Psych report ends"
   ]
  },
  {
   "cell_type": "markdown",
   "metadata": {},
   "source": []
  },
  {
   "attachments": {},
   "cell_type": "markdown",
   "metadata": {},
   "source": [
    "MBA report begins"
   ]
  },
  {
   "cell_type": "code",
   "execution_count": 71,
   "metadata": {},
   "outputs": [
    {
     "data": {
      "text/html": [
       "<div>\n",
       "<style scoped>\n",
       "    .dataframe tbody tr th:only-of-type {\n",
       "        vertical-align: middle;\n",
       "    }\n",
       "\n",
       "    .dataframe tbody tr th {\n",
       "        vertical-align: top;\n",
       "    }\n",
       "\n",
       "    .dataframe thead th {\n",
       "        text-align: right;\n",
       "    }\n",
       "</style>\n",
       "<table border=\"1\" class=\"dataframe\">\n",
       "  <thead>\n",
       "    <tr style=\"text-align: right;\">\n",
       "      <th></th>\n",
       "      <th>QuestionSerialNumber</th>\n",
       "      <th>StudentScore</th>\n",
       "      <th>TimeSpentInSeconds</th>\n",
       "      <th>LoginId</th>\n",
       "      <th>srn</th>\n",
       "    </tr>\n",
       "  </thead>\n",
       "  <tbody>\n",
       "    <tr>\n",
       "      <th>9500</th>\n",
       "      <td>1</td>\n",
       "      <td>-1</td>\n",
       "      <td>18</td>\n",
       "      <td>PES1202202691</td>\n",
       "      <td>PES1PG22MB068</td>\n",
       "    </tr>\n",
       "    <tr>\n",
       "      <th>9501</th>\n",
       "      <td>2</td>\n",
       "      <td>0</td>\n",
       "      <td>14</td>\n",
       "      <td>PES1202202691</td>\n",
       "      <td>PES1PG22MB068</td>\n",
       "    </tr>\n",
       "    <tr>\n",
       "      <th>9502</th>\n",
       "      <td>3</td>\n",
       "      <td>1</td>\n",
       "      <td>56</td>\n",
       "      <td>PES1202202691</td>\n",
       "      <td>PES1PG22MB068</td>\n",
       "    </tr>\n",
       "    <tr>\n",
       "      <th>9503</th>\n",
       "      <td>4</td>\n",
       "      <td>1</td>\n",
       "      <td>75</td>\n",
       "      <td>PES1202202691</td>\n",
       "      <td>PES1PG22MB068</td>\n",
       "    </tr>\n",
       "    <tr>\n",
       "      <th>9504</th>\n",
       "      <td>5</td>\n",
       "      <td>0</td>\n",
       "      <td>52</td>\n",
       "      <td>PES1202202691</td>\n",
       "      <td>PES1PG22MB068</td>\n",
       "    </tr>\n",
       "    <tr>\n",
       "      <th>...</th>\n",
       "      <td>...</td>\n",
       "      <td>...</td>\n",
       "      <td>...</td>\n",
       "      <td>...</td>\n",
       "      <td>...</td>\n",
       "    </tr>\n",
       "    <tr>\n",
       "      <th>10045</th>\n",
       "      <td>46</td>\n",
       "      <td>-1</td>\n",
       "      <td>15</td>\n",
       "      <td>PES1202204067</td>\n",
       "      <td>PES1PG22MB240</td>\n",
       "    </tr>\n",
       "    <tr>\n",
       "      <th>10046</th>\n",
       "      <td>47</td>\n",
       "      <td>-1</td>\n",
       "      <td>2</td>\n",
       "      <td>PES1202204067</td>\n",
       "      <td>PES1PG22MB240</td>\n",
       "    </tr>\n",
       "    <tr>\n",
       "      <th>10047</th>\n",
       "      <td>48</td>\n",
       "      <td>-1</td>\n",
       "      <td>5</td>\n",
       "      <td>PES1202204067</td>\n",
       "      <td>PES1PG22MB240</td>\n",
       "    </tr>\n",
       "    <tr>\n",
       "      <th>10048</th>\n",
       "      <td>49</td>\n",
       "      <td>1</td>\n",
       "      <td>14</td>\n",
       "      <td>PES1202204067</td>\n",
       "      <td>PES1PG22MB240</td>\n",
       "    </tr>\n",
       "    <tr>\n",
       "      <th>10049</th>\n",
       "      <td>50</td>\n",
       "      <td>1</td>\n",
       "      <td>129</td>\n",
       "      <td>PES1202204067</td>\n",
       "      <td>PES1PG22MB240</td>\n",
       "    </tr>\n",
       "  </tbody>\n",
       "</table>\n",
       "<p>550 rows × 5 columns</p>\n",
       "</div>"
      ],
      "text/plain": [
       "        QuestionSerialNumber   StudentScore   TimeSpentInSeconds  \\\n",
       "9500                       1             -1                   18   \n",
       "9501                       2              0                   14   \n",
       "9502                       3              1                   56   \n",
       "9503                       4              1                   75   \n",
       "9504                       5              0                   52   \n",
       "...                      ...            ...                  ...   \n",
       "10045                     46             -1                   15   \n",
       "10046                     47             -1                    2   \n",
       "10047                     48             -1                    5   \n",
       "10048                     49              1                   14   \n",
       "10049                     50              1                  129   \n",
       "\n",
       "             LoginId            srn  \n",
       "9500   PES1202202691  PES1PG22MB068  \n",
       "9501   PES1202202691  PES1PG22MB068  \n",
       "9502   PES1202202691  PES1PG22MB068  \n",
       "9503   PES1202202691  PES1PG22MB068  \n",
       "9504   PES1202202691  PES1PG22MB068  \n",
       "...              ...            ...  \n",
       "10045  PES1202204067  PES1PG22MB240  \n",
       "10046  PES1202204067  PES1PG22MB240  \n",
       "10047  PES1202204067  PES1PG22MB240  \n",
       "10048  PES1202204067  PES1PG22MB240  \n",
       "10049  PES1202204067  PES1PG22MB240  \n",
       "\n",
       "[550 rows x 5 columns]"
      ]
     },
     "execution_count": 71,
     "metadata": {},
     "output_type": "execute_result"
    }
   ],
   "source": [
    "MB_df = df[df.srn.str.contains(\"MB\", case = False)].copy(deep = True)\n",
    "MB_df"
   ]
  },
  {
   "cell_type": "code",
   "execution_count": 1,
   "metadata": {},
   "outputs": [
    {
     "ename": "NameError",
     "evalue": "name 'MB_df' is not defined",
     "output_type": "error",
     "traceback": [
      "\u001b[1;31m---------------------------------------------------------------------------\u001b[0m",
      "\u001b[1;31mNameError\u001b[0m                                 Traceback (most recent call last)",
      "Cell \u001b[1;32mIn [1], line 1\u001b[0m\n\u001b[1;32m----> 1\u001b[0m unique__MB_SRN \u001b[39m=\u001b[39m MB_df[\u001b[39m\"\u001b[39m\u001b[39msrn\u001b[39m\u001b[39m\"\u001b[39m]\u001b[39m.\u001b[39munique()\n\u001b[0;32m      2\u001b[0m \u001b[39mprint\u001b[39m(\u001b[39m\"\u001b[39m\u001b[39mThe number of MBA students who took the test = \u001b[39m\u001b[39m\"\u001b[39m \u001b[39m+\u001b[39m  \u001b[39mstr\u001b[39m(\u001b[39mlen\u001b[39m(unique__MB_SRN)))\n",
      "\u001b[1;31mNameError\u001b[0m: name 'MB_df' is not defined"
     ]
    }
   ],
   "source": [
    "unique__MB_SRN = MB_df[\"srn\"].unique()\n",
    "print(\"The number of MBA students who took the test = \" +  str(len(unique__MB_SRN)))"
   ]
  },
  {
   "cell_type": "code",
   "execution_count": 73,
   "metadata": {},
   "outputs": [
    {
     "data": {
      "text/plain": [
       "'0:31:29'"
      ]
     },
     "execution_count": 73,
     "metadata": {},
     "output_type": "execute_result"
    }
   ],
   "source": [
    "mb_time = MB_df[\" TimeSpentInSeconds\"].sum()\n",
    "mb_time_in_sec = mb_time/len(unique__MB_SRN)\n",
    "convert(mb_time_in_sec)"
   ]
  },
  {
   "cell_type": "code",
   "execution_count": 74,
   "metadata": {},
   "outputs": [
    {
     "data": {
      "text/plain": [
       "9.82"
      ]
     },
     "execution_count": 74,
     "metadata": {},
     "output_type": "execute_result"
    }
   ],
   "source": [
    "mb_total_score = MB_df[\" StudentScore\"].sum()\n",
    "mb_average_score = round(mb_total_score/len(unique__MB_SRN),2)\n",
    "mb_average_score"
   ]
  },
  {
   "cell_type": "code",
   "execution_count": 75,
   "metadata": {},
   "outputs": [
    {
     "name": "stderr",
     "output_type": "stream",
     "text": [
      "C:\\Users\\ragha\\AppData\\Local\\Temp\\ipykernel_17368\\2968201893.py:1: FutureWarning: The default value of numeric_only in DataFrameGroupBy.sum is deprecated. In a future version, numeric_only will default to False. Either specify numeric_only or select only columns which should be valid for the function.\n",
      "  mb_df_g = MB_df.groupby(\" LoginId\", as_index = False ).sum()\n"
     ]
    },
    {
     "data": {
      "text/plain": [
       " LoginId               PES1202203219\n",
       " StudentScore                     37\n",
       " TimeSpentInSeconds             2779\n",
       "Name: 8, dtype: object"
      ]
     },
     "execution_count": 75,
     "metadata": {},
     "output_type": "execute_result"
    }
   ],
   "source": [
    "mb_df_g = MB_df.groupby(\" LoginId\", as_index = False ).sum()\n",
    "#bc_df_g\n",
    "mb_df_g = mb_df_g.drop(columns = [\" QuestionSerialNumber\"])\n",
    "\n",
    "mb_top_scorer = mb_df_g.loc[mb_df_g[\" StudentScore\"].idxmax()]\n",
    "mb_top_scorer"
   ]
  },
  {
   "cell_type": "code",
   "execution_count": 76,
   "metadata": {},
   "outputs": [
    {
     "data": {
      "text/plain": [
       " LoginId               PES1202203251\n",
       " StudentScore                    -26\n",
       " TimeSpentInSeconds              484\n",
       "Name: 9, dtype: object"
      ]
     },
     "execution_count": 76,
     "metadata": {},
     "output_type": "execute_result"
    }
   ],
   "source": [
    "mb_lowest = mb_df_g.loc[mb_df_g[\" StudentScore\"].idxmin()]\n",
    "mb_lowest"
   ]
  },
  {
   "cell_type": "code",
   "execution_count": 77,
   "metadata": {},
   "outputs": [
    {
     "name": "stdout",
     "output_type": "stream",
     "text": [
      "0.8420036586024218\n",
      "There exist a strong linear relationship between time spent and marks scored.\n"
     ]
    }
   ],
   "source": [
    "mb_corrcoeff = np.corrcoef(mb_df_g[\" TimeSpentInSeconds\"], mb_df_g[\" StudentScore\"])\n",
    "mb_pcc = mb_corrcoeff[0][1]\n",
    "print(mb_pcc)\n",
    "if mb_pcc > -0.2 and mb_pcc < 0.2:\n",
    "    print(\"There exists a weak linear relationship between time spent and marks scored.\")\n",
    "elif (mb_pcc > 0.2 and mb_pcc < 0.7) or (mb_pcc > -0.7 and mb_pcc < -0.2):\n",
    "    print(\"There exists a mild linear relationship between time spent and marks scored.\")     \n",
    "elif (mb_pcc <= 1 and mb_pcc > 0.7) or (mb_pcc > -1 and mb_pcc < -0.7):\n",
    "    print(\"There exist a strong linear relationship between time spent and marks scored.\")   \n",
    "    "
   ]
  },
  {
   "attachments": {},
   "cell_type": "markdown",
   "metadata": {},
   "source": [
    "MBA report ends "
   ]
  }
 ],
 "metadata": {
  "kernelspec": {
   "display_name": "Python 3",
   "language": "python",
   "name": "python3"
  },
  "language_info": {
   "codemirror_mode": {
    "name": "ipython",
    "version": 3
   },
   "file_extension": ".py",
   "mimetype": "text/x-python",
   "name": "python",
   "nbconvert_exporter": "python",
   "pygments_lexer": "ipython3",
   "version": "3.10.7"
  },
  "orig_nbformat": 4,
  "vscode": {
   "interpreter": {
    "hash": "910d712d4e5f76353d1f9291f0c7cc989a3c4111caaba5d2f6f0285c3e1ad9f6"
   }
  }
 },
 "nbformat": 4,
 "nbformat_minor": 2
}
