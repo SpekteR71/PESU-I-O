{
 "cells": [
  {
   "cell_type": "code",
   "execution_count": 80,
   "metadata": {},
   "outputs": [],
   "source": [
    "import pandas as pd\n",
    "import numpy as np\n",
    "import datetime\n",
    "from statistics import correlation"
   ]
  },
  {
   "cell_type": "code",
   "execution_count": 81,
   "metadata": {},
   "outputs": [],
   "source": [
    "def convert(seconds):\n",
    "    seconds = seconds % (24 * 3600)\n",
    "    hour = seconds // 3600\n",
    "    seconds %= 3600\n",
    "    minutes = seconds // 60\n",
    "    seconds %= 60\n",
    "     \n",
    "    return \"%d:%02d:%02d\" % (hour, minutes, seconds)"
   ]
  },
  {
   "cell_type": "code",
   "execution_count": 82,
   "metadata": {},
   "outputs": [
    {
     "name": "stderr",
     "output_type": "stream",
     "text": [
      "c:\\Users\\ragha\\AppData\\Local\\Programs\\Python\\Python310\\lib\\site-packages\\openpyxl\\styles\\stylesheet.py:226: UserWarning: Workbook contains no default style, apply openpyxl's default\n",
      "  warn(\"Workbook contains no default style, apply openpyxl's default\")\n"
     ]
    },
    {
     "data": {
      "text/html": [
       "<div>\n",
       "<style scoped>\n",
       "    .dataframe tbody tr th:only-of-type {\n",
       "        vertical-align: middle;\n",
       "    }\n",
       "\n",
       "    .dataframe tbody tr th {\n",
       "        vertical-align: top;\n",
       "    }\n",
       "\n",
       "    .dataframe thead th {\n",
       "        text-align: right;\n",
       "    }\n",
       "</style>\n",
       "<table border=\"1\" class=\"dataframe\">\n",
       "  <thead>\n",
       "    <tr style=\"text-align: right;\">\n",
       "      <th></th>\n",
       "      <th>SubjectCode</th>\n",
       "      <th>QuestionPaperName</th>\n",
       "      <th>QuestionSerialNumber</th>\n",
       "      <th>Marks</th>\n",
       "      <th>StudentScore</th>\n",
       "      <th>TimeSpentInSeconds</th>\n",
       "      <th>LoginId</th>\n",
       "      <th>SRN</th>\n",
       "    </tr>\n",
       "  </thead>\n",
       "  <tbody>\n",
       "    <tr>\n",
       "      <th>0</th>\n",
       "      <td>UE20PT101</td>\n",
       "      <td>APR2020 - CBT - UE20PT101 (set- 1)</td>\n",
       "      <td>1</td>\n",
       "      <td>1</td>\n",
       "      <td>0</td>\n",
       "      <td>0</td>\n",
       "      <td>PES1202000608</td>\n",
       "      <td>PES1UG20CS064</td>\n",
       "    </tr>\n",
       "    <tr>\n",
       "      <th>1</th>\n",
       "      <td>UE20PT101</td>\n",
       "      <td>APR2020 - CBT - UE20PT101 (set- 1)</td>\n",
       "      <td>2</td>\n",
       "      <td>1</td>\n",
       "      <td>0</td>\n",
       "      <td>0</td>\n",
       "      <td>PES1202000608</td>\n",
       "      <td>PES1UG20CS064</td>\n",
       "    </tr>\n",
       "    <tr>\n",
       "      <th>2</th>\n",
       "      <td>UE20PT101</td>\n",
       "      <td>APR2020 - CBT - UE20PT101 (set- 1)</td>\n",
       "      <td>3</td>\n",
       "      <td>1</td>\n",
       "      <td>0</td>\n",
       "      <td>92</td>\n",
       "      <td>PES1202000608</td>\n",
       "      <td>PES1UG20CS064</td>\n",
       "    </tr>\n",
       "    <tr>\n",
       "      <th>3</th>\n",
       "      <td>UE20PT101</td>\n",
       "      <td>APR2020 - CBT - UE20PT101 (set- 1)</td>\n",
       "      <td>4</td>\n",
       "      <td>1</td>\n",
       "      <td>0</td>\n",
       "      <td>0</td>\n",
       "      <td>PES1202000608</td>\n",
       "      <td>PES1UG20CS064</td>\n",
       "    </tr>\n",
       "    <tr>\n",
       "      <th>4</th>\n",
       "      <td>UE20PT101</td>\n",
       "      <td>APR2020 - CBT - UE20PT101 (set- 1)</td>\n",
       "      <td>5</td>\n",
       "      <td>1</td>\n",
       "      <td>0</td>\n",
       "      <td>0</td>\n",
       "      <td>PES1202000608</td>\n",
       "      <td>PES1UG20CS064</td>\n",
       "    </tr>\n",
       "    <tr>\n",
       "      <th>...</th>\n",
       "      <td>...</td>\n",
       "      <td>...</td>\n",
       "      <td>...</td>\n",
       "      <td>...</td>\n",
       "      <td>...</td>\n",
       "      <td>...</td>\n",
       "      <td>...</td>\n",
       "      <td>...</td>\n",
       "    </tr>\n",
       "    <tr>\n",
       "      <th>4295</th>\n",
       "      <td>UE20PT101</td>\n",
       "      <td>APR2020 - CBT - UE20PT101 (set- 1)</td>\n",
       "      <td>46</td>\n",
       "      <td>1</td>\n",
       "      <td>0</td>\n",
       "      <td>0</td>\n",
       "      <td>S1232</td>\n",
       "      <td>S1232</td>\n",
       "    </tr>\n",
       "    <tr>\n",
       "      <th>4296</th>\n",
       "      <td>UE20PT101</td>\n",
       "      <td>APR2020 - CBT - UE20PT101 (set- 1)</td>\n",
       "      <td>47</td>\n",
       "      <td>1</td>\n",
       "      <td>0</td>\n",
       "      <td>0</td>\n",
       "      <td>S1232</td>\n",
       "      <td>S1232</td>\n",
       "    </tr>\n",
       "    <tr>\n",
       "      <th>4297</th>\n",
       "      <td>UE20PT101</td>\n",
       "      <td>APR2020 - CBT - UE20PT101 (set- 1)</td>\n",
       "      <td>48</td>\n",
       "      <td>1</td>\n",
       "      <td>0</td>\n",
       "      <td>0</td>\n",
       "      <td>S1232</td>\n",
       "      <td>S1232</td>\n",
       "    </tr>\n",
       "    <tr>\n",
       "      <th>4298</th>\n",
       "      <td>UE20PT101</td>\n",
       "      <td>APR2020 - CBT - UE20PT101 (set- 1)</td>\n",
       "      <td>49</td>\n",
       "      <td>1</td>\n",
       "      <td>0</td>\n",
       "      <td>0</td>\n",
       "      <td>S1232</td>\n",
       "      <td>S1232</td>\n",
       "    </tr>\n",
       "    <tr>\n",
       "      <th>4299</th>\n",
       "      <td>UE20PT101</td>\n",
       "      <td>APR2020 - CBT - UE20PT101 (set- 1)</td>\n",
       "      <td>50</td>\n",
       "      <td>1</td>\n",
       "      <td>0</td>\n",
       "      <td>0</td>\n",
       "      <td>S1232</td>\n",
       "      <td>S1232</td>\n",
       "    </tr>\n",
       "  </tbody>\n",
       "</table>\n",
       "<p>4300 rows × 8 columns</p>\n",
       "</div>"
      ],
      "text/plain": [
       "     SubjectCode                   QuestionPaperName   QuestionSerialNumber  \\\n",
       "0      UE20PT101  APR2020 - CBT - UE20PT101 (set- 1)                      1   \n",
       "1      UE20PT101  APR2020 - CBT - UE20PT101 (set- 1)                      2   \n",
       "2      UE20PT101  APR2020 - CBT - UE20PT101 (set- 1)                      3   \n",
       "3      UE20PT101  APR2020 - CBT - UE20PT101 (set- 1)                      4   \n",
       "4      UE20PT101  APR2020 - CBT - UE20PT101 (set- 1)                      5   \n",
       "...          ...                                 ...                    ...   \n",
       "4295   UE20PT101  APR2020 - CBT - UE20PT101 (set- 1)                     46   \n",
       "4296   UE20PT101  APR2020 - CBT - UE20PT101 (set- 1)                     47   \n",
       "4297   UE20PT101  APR2020 - CBT - UE20PT101 (set- 1)                     48   \n",
       "4298   UE20PT101  APR2020 - CBT - UE20PT101 (set- 1)                     49   \n",
       "4299   UE20PT101  APR2020 - CBT - UE20PT101 (set- 1)                     50   \n",
       "\n",
       "       Marks   StudentScore   TimeSpentInSeconds        LoginId            SRN  \n",
       "0          1              0                    0  PES1202000608  PES1UG20CS064  \n",
       "1          1              0                    0  PES1202000608  PES1UG20CS064  \n",
       "2          1              0                   92  PES1202000608  PES1UG20CS064  \n",
       "3          1              0                    0  PES1202000608  PES1UG20CS064  \n",
       "4          1              0                    0  PES1202000608  PES1UG20CS064  \n",
       "...      ...            ...                  ...            ...            ...  \n",
       "4295       1              0                    0          S1232          S1232  \n",
       "4296       1              0                    0          S1232          S1232  \n",
       "4297       1              0                    0          S1232          S1232  \n",
       "4298       1              0                    0          S1232          S1232  \n",
       "4299       1              0                    0          S1232          S1232  \n",
       "\n",
       "[4300 rows x 8 columns]"
      ]
     },
     "execution_count": 82,
     "metadata": {},
     "output_type": "execute_result"
    }
   ],
   "source": [
    "df = pd.read_excel(\"C:\\CLG\\PESU IO\\Btech PPT\\ME\\ME PPT 7-2-2023.xlsx\")\n",
    "df"
   ]
  },
  {
   "cell_type": "code",
   "execution_count": 83,
   "metadata": {},
   "outputs": [
    {
     "name": "stdout",
     "output_type": "stream",
     "text": [
      "The number of students who took the test = 86\n"
     ]
    }
   ],
   "source": [
    "print(\"The number of students who took the test = \" + str(len(list(df[\" LoginId\"].unique()))))"
   ]
  },
  {
   "cell_type": "code",
   "execution_count": null,
   "metadata": {},
   "outputs": [],
   "source": []
  },
  {
   "cell_type": "code",
   "execution_count": 84,
   "metadata": {},
   "outputs": [
    {
     "data": {
      "text/html": [
       "<div>\n",
       "<style scoped>\n",
       "    .dataframe tbody tr th:only-of-type {\n",
       "        vertical-align: middle;\n",
       "    }\n",
       "\n",
       "    .dataframe tbody tr th {\n",
       "        vertical-align: top;\n",
       "    }\n",
       "\n",
       "    .dataframe thead th {\n",
       "        text-align: right;\n",
       "    }\n",
       "</style>\n",
       "<table border=\"1\" class=\"dataframe\">\n",
       "  <thead>\n",
       "    <tr style=\"text-align: right;\">\n",
       "      <th></th>\n",
       "      <th>QuestionSerialNumber</th>\n",
       "      <th>StudentScore</th>\n",
       "      <th>TimeSpentInSeconds</th>\n",
       "      <th>LoginId</th>\n",
       "      <th>SRN</th>\n",
       "    </tr>\n",
       "  </thead>\n",
       "  <tbody>\n",
       "    <tr>\n",
       "      <th>0</th>\n",
       "      <td>1</td>\n",
       "      <td>0</td>\n",
       "      <td>0</td>\n",
       "      <td>PES1202000608</td>\n",
       "      <td>PES1UG20CS064</td>\n",
       "    </tr>\n",
       "    <tr>\n",
       "      <th>1</th>\n",
       "      <td>2</td>\n",
       "      <td>0</td>\n",
       "      <td>0</td>\n",
       "      <td>PES1202000608</td>\n",
       "      <td>PES1UG20CS064</td>\n",
       "    </tr>\n",
       "    <tr>\n",
       "      <th>2</th>\n",
       "      <td>3</td>\n",
       "      <td>0</td>\n",
       "      <td>92</td>\n",
       "      <td>PES1202000608</td>\n",
       "      <td>PES1UG20CS064</td>\n",
       "    </tr>\n",
       "    <tr>\n",
       "      <th>3</th>\n",
       "      <td>4</td>\n",
       "      <td>0</td>\n",
       "      <td>0</td>\n",
       "      <td>PES1202000608</td>\n",
       "      <td>PES1UG20CS064</td>\n",
       "    </tr>\n",
       "    <tr>\n",
       "      <th>4</th>\n",
       "      <td>5</td>\n",
       "      <td>0</td>\n",
       "      <td>0</td>\n",
       "      <td>PES1202000608</td>\n",
       "      <td>PES1UG20CS064</td>\n",
       "    </tr>\n",
       "    <tr>\n",
       "      <th>...</th>\n",
       "      <td>...</td>\n",
       "      <td>...</td>\n",
       "      <td>...</td>\n",
       "      <td>...</td>\n",
       "      <td>...</td>\n",
       "    </tr>\n",
       "    <tr>\n",
       "      <th>4295</th>\n",
       "      <td>46</td>\n",
       "      <td>0</td>\n",
       "      <td>0</td>\n",
       "      <td>S1232</td>\n",
       "      <td>S1232</td>\n",
       "    </tr>\n",
       "    <tr>\n",
       "      <th>4296</th>\n",
       "      <td>47</td>\n",
       "      <td>0</td>\n",
       "      <td>0</td>\n",
       "      <td>S1232</td>\n",
       "      <td>S1232</td>\n",
       "    </tr>\n",
       "    <tr>\n",
       "      <th>4297</th>\n",
       "      <td>48</td>\n",
       "      <td>0</td>\n",
       "      <td>0</td>\n",
       "      <td>S1232</td>\n",
       "      <td>S1232</td>\n",
       "    </tr>\n",
       "    <tr>\n",
       "      <th>4298</th>\n",
       "      <td>49</td>\n",
       "      <td>0</td>\n",
       "      <td>0</td>\n",
       "      <td>S1232</td>\n",
       "      <td>S1232</td>\n",
       "    </tr>\n",
       "    <tr>\n",
       "      <th>4299</th>\n",
       "      <td>50</td>\n",
       "      <td>0</td>\n",
       "      <td>0</td>\n",
       "      <td>S1232</td>\n",
       "      <td>S1232</td>\n",
       "    </tr>\n",
       "  </tbody>\n",
       "</table>\n",
       "<p>4300 rows × 5 columns</p>\n",
       "</div>"
      ],
      "text/plain": [
       "       QuestionSerialNumber   StudentScore   TimeSpentInSeconds  \\\n",
       "0                         1              0                    0   \n",
       "1                         2              0                    0   \n",
       "2                         3              0                   92   \n",
       "3                         4              0                    0   \n",
       "4                         5              0                    0   \n",
       "...                     ...            ...                  ...   \n",
       "4295                     46              0                    0   \n",
       "4296                     47              0                    0   \n",
       "4297                     48              0                    0   \n",
       "4298                     49              0                    0   \n",
       "4299                     50              0                    0   \n",
       "\n",
       "            LoginId            SRN  \n",
       "0     PES1202000608  PES1UG20CS064  \n",
       "1     PES1202000608  PES1UG20CS064  \n",
       "2     PES1202000608  PES1UG20CS064  \n",
       "3     PES1202000608  PES1UG20CS064  \n",
       "4     PES1202000608  PES1UG20CS064  \n",
       "...             ...            ...  \n",
       "4295          S1232          S1232  \n",
       "4296          S1232          S1232  \n",
       "4297          S1232          S1232  \n",
       "4298          S1232          S1232  \n",
       "4299          S1232          S1232  \n",
       "\n",
       "[4300 rows x 5 columns]"
      ]
     },
     "execution_count": 84,
     "metadata": {},
     "output_type": "execute_result"
    }
   ],
   "source": [
    "df = df.drop(columns = [\" Marks\",\" QuestionPaperName\", \"SubjectCode\"])\n",
    "df"
   ]
  },
  {
   "cell_type": "code",
   "execution_count": 85,
   "metadata": {},
   "outputs": [
    {
     "name": "stdout",
     "output_type": "stream",
     "text": [
      "Total number of students who took the test =  86\n"
     ]
    }
   ],
   "source": [
    "unique_SRN = df[\" SRN\"].unique()\n",
    "print(\"Total number of students who took the test = \", len(unique_SRN))"
   ]
  },
  {
   "cell_type": "code",
   "execution_count": 86,
   "metadata": {},
   "outputs": [
    {
     "name": "stdout",
     "output_type": "stream",
     "text": [
      "[5, 5, 2, 73, 0]\n"
     ]
    }
   ],
   "source": [
    "cs_attendance = 0\n",
    "ec_attendance = 0\n",
    "ee_attendance = 0\n",
    "me_attendance = 0\n",
    "bt_attendance = 0\n",
    "\n",
    "for i in range(len(unique_SRN)):\n",
    "    if \"CS\" in unique_SRN[i]:\n",
    "        cs_attendance += 1\n",
    "    elif \"EC\" in unique_SRN[i]:\n",
    "        ec_attendance += 1\n",
    "    elif \"EE\" in unique_SRN[i]:\n",
    "        ee_attendance += 1\n",
    "    elif \"ME\" in unique_SRN[i]:\n",
    "        me_attendance += 1\n",
    "    elif \"BT\" in unique_SRN[i]:\n",
    "        bt_attendance +=1    \n",
    "\n",
    "counter = [cs_attendance, ec_attendance, ee_attendance, me_attendance, bt_attendance]\n",
    "print(counter)   \n"
   ]
  },
  {
   "attachments": {},
   "cell_type": "markdown",
   "metadata": {},
   "source": [
    "CS Report Begins"
   ]
  },
  {
   "cell_type": "code",
   "execution_count": 87,
   "metadata": {},
   "outputs": [
    {
     "data": {
      "text/html": [
       "<div>\n",
       "<style scoped>\n",
       "    .dataframe tbody tr th:only-of-type {\n",
       "        vertical-align: middle;\n",
       "    }\n",
       "\n",
       "    .dataframe tbody tr th {\n",
       "        vertical-align: top;\n",
       "    }\n",
       "\n",
       "    .dataframe thead th {\n",
       "        text-align: right;\n",
       "    }\n",
       "</style>\n",
       "<table border=\"1\" class=\"dataframe\">\n",
       "  <thead>\n",
       "    <tr style=\"text-align: right;\">\n",
       "      <th></th>\n",
       "      <th>QuestionSerialNumber</th>\n",
       "      <th>StudentScore</th>\n",
       "      <th>TimeSpentInSeconds</th>\n",
       "      <th>LoginId</th>\n",
       "      <th>srn</th>\n",
       "    </tr>\n",
       "  </thead>\n",
       "  <tbody>\n",
       "    <tr>\n",
       "      <th>0</th>\n",
       "      <td>1</td>\n",
       "      <td>0</td>\n",
       "      <td>0</td>\n",
       "      <td>PES1202000608</td>\n",
       "      <td>PES1UG20CS064</td>\n",
       "    </tr>\n",
       "    <tr>\n",
       "      <th>1</th>\n",
       "      <td>2</td>\n",
       "      <td>0</td>\n",
       "      <td>0</td>\n",
       "      <td>PES1202000608</td>\n",
       "      <td>PES1UG20CS064</td>\n",
       "    </tr>\n",
       "    <tr>\n",
       "      <th>2</th>\n",
       "      <td>3</td>\n",
       "      <td>0</td>\n",
       "      <td>92</td>\n",
       "      <td>PES1202000608</td>\n",
       "      <td>PES1UG20CS064</td>\n",
       "    </tr>\n",
       "    <tr>\n",
       "      <th>3</th>\n",
       "      <td>4</td>\n",
       "      <td>0</td>\n",
       "      <td>0</td>\n",
       "      <td>PES1202000608</td>\n",
       "      <td>PES1UG20CS064</td>\n",
       "    </tr>\n",
       "    <tr>\n",
       "      <th>4</th>\n",
       "      <td>5</td>\n",
       "      <td>0</td>\n",
       "      <td>0</td>\n",
       "      <td>PES1202000608</td>\n",
       "      <td>PES1UG20CS064</td>\n",
       "    </tr>\n",
       "    <tr>\n",
       "      <th>...</th>\n",
       "      <td>...</td>\n",
       "      <td>...</td>\n",
       "      <td>...</td>\n",
       "      <td>...</td>\n",
       "      <td>...</td>\n",
       "    </tr>\n",
       "    <tr>\n",
       "      <th>4195</th>\n",
       "      <td>46</td>\n",
       "      <td>0</td>\n",
       "      <td>0</td>\n",
       "      <td>PES2202000842</td>\n",
       "      <td>PES2UG20CS539</td>\n",
       "    </tr>\n",
       "    <tr>\n",
       "      <th>4196</th>\n",
       "      <td>47</td>\n",
       "      <td>0</td>\n",
       "      <td>0</td>\n",
       "      <td>PES2202000842</td>\n",
       "      <td>PES2UG20CS539</td>\n",
       "    </tr>\n",
       "    <tr>\n",
       "      <th>4197</th>\n",
       "      <td>48</td>\n",
       "      <td>0</td>\n",
       "      <td>0</td>\n",
       "      <td>PES2202000842</td>\n",
       "      <td>PES2UG20CS539</td>\n",
       "    </tr>\n",
       "    <tr>\n",
       "      <th>4198</th>\n",
       "      <td>49</td>\n",
       "      <td>0</td>\n",
       "      <td>0</td>\n",
       "      <td>PES2202000842</td>\n",
       "      <td>PES2UG20CS539</td>\n",
       "    </tr>\n",
       "    <tr>\n",
       "      <th>4199</th>\n",
       "      <td>50</td>\n",
       "      <td>0</td>\n",
       "      <td>0</td>\n",
       "      <td>PES2202000842</td>\n",
       "      <td>PES2UG20CS539</td>\n",
       "    </tr>\n",
       "  </tbody>\n",
       "</table>\n",
       "<p>250 rows × 5 columns</p>\n",
       "</div>"
      ],
      "text/plain": [
       "       QuestionSerialNumber   StudentScore   TimeSpentInSeconds  \\\n",
       "0                         1              0                    0   \n",
       "1                         2              0                    0   \n",
       "2                         3              0                   92   \n",
       "3                         4              0                    0   \n",
       "4                         5              0                    0   \n",
       "...                     ...            ...                  ...   \n",
       "4195                     46              0                    0   \n",
       "4196                     47              0                    0   \n",
       "4197                     48              0                    0   \n",
       "4198                     49              0                    0   \n",
       "4199                     50              0                    0   \n",
       "\n",
       "            LoginId            srn  \n",
       "0     PES1202000608  PES1UG20CS064  \n",
       "1     PES1202000608  PES1UG20CS064  \n",
       "2     PES1202000608  PES1UG20CS064  \n",
       "3     PES1202000608  PES1UG20CS064  \n",
       "4     PES1202000608  PES1UG20CS064  \n",
       "...             ...            ...  \n",
       "4195  PES2202000842  PES2UG20CS539  \n",
       "4196  PES2202000842  PES2UG20CS539  \n",
       "4197  PES2202000842  PES2UG20CS539  \n",
       "4198  PES2202000842  PES2UG20CS539  \n",
       "4199  PES2202000842  PES2UG20CS539  \n",
       "\n",
       "[250 rows x 5 columns]"
      ]
     },
     "execution_count": 87,
     "metadata": {},
     "output_type": "execute_result"
    }
   ],
   "source": [
    "df.columns = df.columns.str.replace(\" SRN\", \"srn\")\n",
    "df2 = pd.DataFrame()\n",
    "CS_df = df[df.srn.str.contains(\"CS\", case = False)].copy(deep = True)\n",
    "CS_df"
   ]
  },
  {
   "cell_type": "code",
   "execution_count": 88,
   "metadata": {},
   "outputs": [
    {
     "name": "stdout",
     "output_type": "stream",
     "text": [
      "The number of CS students who took the test = 5\n"
     ]
    }
   ],
   "source": [
    "unique__CS_SRN = CS_df[\"srn\"].unique()\n",
    "print(\"The number of CS students who took the test = \" +  str(len(unique__CS_SRN)))"
   ]
  },
  {
   "cell_type": "code",
   "execution_count": 89,
   "metadata": {},
   "outputs": [
    {
     "data": {
      "text/plain": [
       "'0:15:04'"
      ]
     },
     "execution_count": 89,
     "metadata": {},
     "output_type": "execute_result"
    }
   ],
   "source": [
    "cs_time = CS_df[\" TimeSpentInSeconds\"].sum()\n",
    "cs_time_in_sec = cs_time/len(unique__CS_SRN)\n",
    "convert(cs_time_in_sec)"
   ]
  },
  {
   "cell_type": "code",
   "execution_count": 90,
   "metadata": {},
   "outputs": [
    {
     "data": {
      "text/plain": [
       "9.4"
      ]
     },
     "execution_count": 90,
     "metadata": {},
     "output_type": "execute_result"
    }
   ],
   "source": [
    "cs_total_score = CS_df[\" StudentScore\"].sum()\n",
    "\n",
    "cs_average_score = round(cs_total_score/len(unique__CS_SRN),2)\n",
    "cs_average_score"
   ]
  },
  {
   "cell_type": "code",
   "execution_count": 91,
   "metadata": {},
   "outputs": [
    {
     "name": "stderr",
     "output_type": "stream",
     "text": [
      "C:\\Users\\ragha\\AppData\\Local\\Temp\\ipykernel_15488\\2286997245.py:1: FutureWarning: The default value of numeric_only in DataFrameGroupBy.sum is deprecated. In a future version, numeric_only will default to False. Either specify numeric_only or select only columns which should be valid for the function.\n",
      "  cs_df_g = CS_df.groupby(\" LoginId\", as_index = False ).sum()\n"
     ]
    },
    {
     "data": {
      "text/plain": [
       " LoginId               PES2202000304\n",
       " StudentScore                     20\n",
       " TimeSpentInSeconds             2546\n",
       "Name: 3, dtype: object"
      ]
     },
     "execution_count": 91,
     "metadata": {},
     "output_type": "execute_result"
    }
   ],
   "source": [
    "cs_df_g = CS_df.groupby(\" LoginId\", as_index = False ).sum()\n",
    "#bc_df_g\n",
    "cs_df_g = cs_df_g.drop(columns = [\" QuestionSerialNumber\"])\n",
    "\n",
    "cs_top_scorer = cs_df_g.loc[cs_df_g[\" StudentScore\"].idxmax()]\n",
    "cs_top_scorer\n"
   ]
  },
  {
   "cell_type": "code",
   "execution_count": 92,
   "metadata": {},
   "outputs": [
    {
     "data": {
      "text/plain": [
       " LoginId               PES2202000842\n",
       " StudentScore                      0\n",
       " TimeSpentInSeconds               14\n",
       "Name: 4, dtype: object"
      ]
     },
     "execution_count": 92,
     "metadata": {},
     "output_type": "execute_result"
    }
   ],
   "source": [
    "cs_lowest = cs_df_g.loc[cs_df_g[\" StudentScore\"].idxmin()]\n",
    "cs_lowest"
   ]
  },
  {
   "cell_type": "code",
   "execution_count": 93,
   "metadata": {},
   "outputs": [
    {
     "name": "stdout",
     "output_type": "stream",
     "text": [
      "0.8203262002473568\n",
      "There exist a strong linear relationship between time spent and marks scored.\n"
     ]
    }
   ],
   "source": [
    "cs_corrcoeff = np.corrcoef(cs_df_g[\" TimeSpentInSeconds\"], cs_df_g[\" StudentScore\"])\n",
    "cs_pcc = cs_corrcoeff[0][1]\n",
    "print(cs_pcc)\n",
    "if cs_pcc > -0.2 and cs_pcc < 0.2:\n",
    "    print(\"There exists a weak linear relationship between time spent and marks scored.\")\n",
    "elif (cs_pcc > 0.2 and cs_pcc < 0.7) or (cs_pcc > -0.7 and cs_pcc < -0.2):\n",
    "    print(\"There exists a mild linear realtionship between time spent and marks scored.\")     \n",
    "elif (cs_pcc <= 1 and cs_pcc > 0.7) or (cs_pcc > -1 and cs_pcc < -0.7):\n",
    "    print(\"There exist a strong linear relationship between time spent and marks scored.\")   \n",
    "    "
   ]
  },
  {
   "attachments": {},
   "cell_type": "markdown",
   "metadata": {},
   "source": [
    "CS Report Ends"
   ]
  },
  {
   "attachments": {},
   "cell_type": "markdown",
   "metadata": {},
   "source": [
    "EC Report Begins"
   ]
  },
  {
   "cell_type": "code",
   "execution_count": 94,
   "metadata": {},
   "outputs": [
    {
     "data": {
      "text/html": [
       "<div>\n",
       "<style scoped>\n",
       "    .dataframe tbody tr th:only-of-type {\n",
       "        vertical-align: middle;\n",
       "    }\n",
       "\n",
       "    .dataframe tbody tr th {\n",
       "        vertical-align: top;\n",
       "    }\n",
       "\n",
       "    .dataframe thead th {\n",
       "        text-align: right;\n",
       "    }\n",
       "</style>\n",
       "<table border=\"1\" class=\"dataframe\">\n",
       "  <thead>\n",
       "    <tr style=\"text-align: right;\">\n",
       "      <th></th>\n",
       "      <th>QuestionSerialNumber</th>\n",
       "      <th>StudentScore</th>\n",
       "      <th>TimeSpentInSeconds</th>\n",
       "      <th>LoginId</th>\n",
       "      <th>srn</th>\n",
       "    </tr>\n",
       "  </thead>\n",
       "  <tbody>\n",
       "    <tr>\n",
       "      <th>3050</th>\n",
       "      <td>1</td>\n",
       "      <td>0</td>\n",
       "      <td>17</td>\n",
       "      <td>PES1202001982</td>\n",
       "      <td>PES1UG20EC254</td>\n",
       "    </tr>\n",
       "    <tr>\n",
       "      <th>3051</th>\n",
       "      <td>2</td>\n",
       "      <td>0</td>\n",
       "      <td>3</td>\n",
       "      <td>PES1202001982</td>\n",
       "      <td>PES1UG20EC254</td>\n",
       "    </tr>\n",
       "    <tr>\n",
       "      <th>3052</th>\n",
       "      <td>3</td>\n",
       "      <td>0</td>\n",
       "      <td>3</td>\n",
       "      <td>PES1202001982</td>\n",
       "      <td>PES1UG20EC254</td>\n",
       "    </tr>\n",
       "    <tr>\n",
       "      <th>3053</th>\n",
       "      <td>4</td>\n",
       "      <td>0</td>\n",
       "      <td>14</td>\n",
       "      <td>PES1202001982</td>\n",
       "      <td>PES1UG20EC254</td>\n",
       "    </tr>\n",
       "    <tr>\n",
       "      <th>3054</th>\n",
       "      <td>5</td>\n",
       "      <td>1</td>\n",
       "      <td>2</td>\n",
       "      <td>PES1202001982</td>\n",
       "      <td>PES1UG20EC254</td>\n",
       "    </tr>\n",
       "    <tr>\n",
       "      <th>...</th>\n",
       "      <td>...</td>\n",
       "      <td>...</td>\n",
       "      <td>...</td>\n",
       "      <td>...</td>\n",
       "      <td>...</td>\n",
       "    </tr>\n",
       "    <tr>\n",
       "      <th>4245</th>\n",
       "      <td>46</td>\n",
       "      <td>1</td>\n",
       "      <td>43</td>\n",
       "      <td>PES2202000973</td>\n",
       "      <td>PES2UG20EC161</td>\n",
       "    </tr>\n",
       "    <tr>\n",
       "      <th>4246</th>\n",
       "      <td>47</td>\n",
       "      <td>1</td>\n",
       "      <td>51</td>\n",
       "      <td>PES2202000973</td>\n",
       "      <td>PES2UG20EC161</td>\n",
       "    </tr>\n",
       "    <tr>\n",
       "      <th>4247</th>\n",
       "      <td>48</td>\n",
       "      <td>0</td>\n",
       "      <td>59</td>\n",
       "      <td>PES2202000973</td>\n",
       "      <td>PES2UG20EC161</td>\n",
       "    </tr>\n",
       "    <tr>\n",
       "      <th>4248</th>\n",
       "      <td>49</td>\n",
       "      <td>0</td>\n",
       "      <td>23</td>\n",
       "      <td>PES2202000973</td>\n",
       "      <td>PES2UG20EC161</td>\n",
       "    </tr>\n",
       "    <tr>\n",
       "      <th>4249</th>\n",
       "      <td>50</td>\n",
       "      <td>0</td>\n",
       "      <td>111</td>\n",
       "      <td>PES2202000973</td>\n",
       "      <td>PES2UG20EC161</td>\n",
       "    </tr>\n",
       "  </tbody>\n",
       "</table>\n",
       "<p>250 rows × 5 columns</p>\n",
       "</div>"
      ],
      "text/plain": [
       "       QuestionSerialNumber   StudentScore   TimeSpentInSeconds  \\\n",
       "3050                      1              0                   17   \n",
       "3051                      2              0                    3   \n",
       "3052                      3              0                    3   \n",
       "3053                      4              0                   14   \n",
       "3054                      5              1                    2   \n",
       "...                     ...            ...                  ...   \n",
       "4245                     46              1                   43   \n",
       "4246                     47              1                   51   \n",
       "4247                     48              0                   59   \n",
       "4248                     49              0                   23   \n",
       "4249                     50              0                  111   \n",
       "\n",
       "            LoginId            srn  \n",
       "3050  PES1202001982  PES1UG20EC254  \n",
       "3051  PES1202001982  PES1UG20EC254  \n",
       "3052  PES1202001982  PES1UG20EC254  \n",
       "3053  PES1202001982  PES1UG20EC254  \n",
       "3054  PES1202001982  PES1UG20EC254  \n",
       "...             ...            ...  \n",
       "4245  PES2202000973  PES2UG20EC161  \n",
       "4246  PES2202000973  PES2UG20EC161  \n",
       "4247  PES2202000973  PES2UG20EC161  \n",
       "4248  PES2202000973  PES2UG20EC161  \n",
       "4249  PES2202000973  PES2UG20EC161  \n",
       "\n",
       "[250 rows x 5 columns]"
      ]
     },
     "execution_count": 94,
     "metadata": {},
     "output_type": "execute_result"
    }
   ],
   "source": [
    "EC_df = df[df.srn.str.contains(\"EC\", case = False)].copy(deep = True)\n",
    "EC_df"
   ]
  },
  {
   "cell_type": "code",
   "execution_count": 95,
   "metadata": {},
   "outputs": [
    {
     "name": "stdout",
     "output_type": "stream",
     "text": [
      "The number of EC students who took the test = 5\n"
     ]
    }
   ],
   "source": [
    "unique__EC_SRN = EC_df[\"srn\"].unique()\n",
    "print(\"The number of EC students who took the test = \" +  str(len(unique__EC_SRN)))"
   ]
  },
  {
   "cell_type": "code",
   "execution_count": 96,
   "metadata": {},
   "outputs": [
    {
     "data": {
      "text/plain": [
       "'0:22:31'"
      ]
     },
     "execution_count": 96,
     "metadata": {},
     "output_type": "execute_result"
    }
   ],
   "source": [
    "ec_time = EC_df[\" TimeSpentInSeconds\"].sum()\n",
    "ec_time_in_sec = ec_time/len(unique__EC_SRN)\n",
    "convert(ec_time_in_sec)"
   ]
  },
  {
   "cell_type": "code",
   "execution_count": 97,
   "metadata": {},
   "outputs": [
    {
     "data": {
      "text/plain": [
       "13.8"
      ]
     },
     "execution_count": 97,
     "metadata": {},
     "output_type": "execute_result"
    }
   ],
   "source": [
    "ec_total_score = EC_df[\" StudentScore\"].sum()\n",
    "ec_average_score = round(ec_total_score/len(unique__EC_SRN),2)\n",
    "ec_average_score"
   ]
  },
  {
   "cell_type": "code",
   "execution_count": 98,
   "metadata": {},
   "outputs": [
    {
     "name": "stderr",
     "output_type": "stream",
     "text": [
      "C:\\Users\\ragha\\AppData\\Local\\Temp\\ipykernel_15488\\719251800.py:1: FutureWarning: The default value of numeric_only in DataFrameGroupBy.sum is deprecated. In a future version, numeric_only will default to False. Either specify numeric_only or select only columns which should be valid for the function.\n",
      "  ec_df_g = EC_df.groupby(\" LoginId\", as_index = False ).sum()\n"
     ]
    },
    {
     "data": {
      "text/plain": [
       " LoginId               PES2202000358\n",
       " StudentScore                     17\n",
       " TimeSpentInSeconds             1453\n",
       "Name: 2, dtype: object"
      ]
     },
     "execution_count": 98,
     "metadata": {},
     "output_type": "execute_result"
    }
   ],
   "source": [
    "ec_df_g = EC_df.groupby(\" LoginId\", as_index = False ).sum()\n",
    "#bc_df_g\n",
    "ec_df_g = ec_df_g.drop(columns = [\" QuestionSerialNumber\"])\n",
    "\n",
    "ec_top_scorer = ec_df_g.loc[ec_df_g[\" StudentScore\"].idxmax()]\n",
    "ec_top_scorer"
   ]
  },
  {
   "cell_type": "code",
   "execution_count": 99,
   "metadata": {},
   "outputs": [
    {
     "data": {
      "text/plain": [
       " LoginId               PES2202000374\n",
       " StudentScore                     12\n",
       " TimeSpentInSeconds             1162\n",
       "Name: 3, dtype: object"
      ]
     },
     "execution_count": 99,
     "metadata": {},
     "output_type": "execute_result"
    }
   ],
   "source": [
    "ec_lowest = ec_df_g.loc[ec_df_g[\" StudentScore\"].idxmin()]\n",
    "ec_lowest"
   ]
  },
  {
   "cell_type": "code",
   "execution_count": 100,
   "metadata": {},
   "outputs": [
    {
     "name": "stdout",
     "output_type": "stream",
     "text": [
      "-0.028031679867685056\n",
      "There exists a weak linear relationship between time spent and marks scored.\n"
     ]
    }
   ],
   "source": [
    "ec_corrcoeff = np.corrcoef(ec_df_g[\" TimeSpentInSeconds\"], ec_df_g[\" StudentScore\"])\n",
    "ec_pcc = ec_corrcoeff[0][1]\n",
    "print(ec_pcc)\n",
    "if ec_pcc > -0.2 and ec_pcc < 0.2:\n",
    "    print(\"There exists a weak linear relationship between time spent and marks scored.\")\n",
    "elif (ec_pcc > 0.2 and ec_pcc < 0.7) or (ec_pcc > -0.7 and ec_pcc < -0.2):\n",
    "    print(\"There exists a mild linear realtionship between time spent and marks scored.\")     \n",
    "elif (ec_pcc <= 1 and ec_pcc > 0.7) or (ec_pcc > -1 and ec_pcc < -0.7):\n",
    "    print(\"There exist a strong linear relationship between time spent and marks scored.\")   \n",
    "    "
   ]
  },
  {
   "attachments": {},
   "cell_type": "markdown",
   "metadata": {},
   "source": [
    "EC Report Ends"
   ]
  },
  {
   "attachments": {},
   "cell_type": "markdown",
   "metadata": {},
   "source": [
    "EE Report Ends"
   ]
  },
  {
   "cell_type": "code",
   "execution_count": 101,
   "metadata": {},
   "outputs": [
    {
     "data": {
      "text/html": [
       "<div>\n",
       "<style scoped>\n",
       "    .dataframe tbody tr th:only-of-type {\n",
       "        vertical-align: middle;\n",
       "    }\n",
       "\n",
       "    .dataframe tbody tr th {\n",
       "        vertical-align: top;\n",
       "    }\n",
       "\n",
       "    .dataframe thead th {\n",
       "        text-align: right;\n",
       "    }\n",
       "</style>\n",
       "<table border=\"1\" class=\"dataframe\">\n",
       "  <thead>\n",
       "    <tr style=\"text-align: right;\">\n",
       "      <th></th>\n",
       "      <th>QuestionSerialNumber</th>\n",
       "      <th>StudentScore</th>\n",
       "      <th>TimeSpentInSeconds</th>\n",
       "      <th>LoginId</th>\n",
       "      <th>srn</th>\n",
       "    </tr>\n",
       "  </thead>\n",
       "  <tbody>\n",
       "    <tr>\n",
       "      <th>3600</th>\n",
       "      <td>1</td>\n",
       "      <td>1</td>\n",
       "      <td>62</td>\n",
       "      <td>PES1202102674</td>\n",
       "      <td>PES1UG21EE803</td>\n",
       "    </tr>\n",
       "    <tr>\n",
       "      <th>3601</th>\n",
       "      <td>2</td>\n",
       "      <td>0</td>\n",
       "      <td>123</td>\n",
       "      <td>PES1202102674</td>\n",
       "      <td>PES1UG21EE803</td>\n",
       "    </tr>\n",
       "    <tr>\n",
       "      <th>3602</th>\n",
       "      <td>3</td>\n",
       "      <td>1</td>\n",
       "      <td>25</td>\n",
       "      <td>PES1202102674</td>\n",
       "      <td>PES1UG21EE803</td>\n",
       "    </tr>\n",
       "    <tr>\n",
       "      <th>3603</th>\n",
       "      <td>4</td>\n",
       "      <td>1</td>\n",
       "      <td>46</td>\n",
       "      <td>PES1202102674</td>\n",
       "      <td>PES1UG21EE803</td>\n",
       "    </tr>\n",
       "    <tr>\n",
       "      <th>3604</th>\n",
       "      <td>5</td>\n",
       "      <td>1</td>\n",
       "      <td>104</td>\n",
       "      <td>PES1202102674</td>\n",
       "      <td>PES1UG21EE803</td>\n",
       "    </tr>\n",
       "    <tr>\n",
       "      <th>...</th>\n",
       "      <td>...</td>\n",
       "      <td>...</td>\n",
       "      <td>...</td>\n",
       "      <td>...</td>\n",
       "      <td>...</td>\n",
       "    </tr>\n",
       "    <tr>\n",
       "      <th>3995</th>\n",
       "      <td>46</td>\n",
       "      <td>1</td>\n",
       "      <td>56</td>\n",
       "      <td>PES1202102875</td>\n",
       "      <td>PES1UG21EE804</td>\n",
       "    </tr>\n",
       "    <tr>\n",
       "      <th>3996</th>\n",
       "      <td>47</td>\n",
       "      <td>0</td>\n",
       "      <td>21</td>\n",
       "      <td>PES1202102875</td>\n",
       "      <td>PES1UG21EE804</td>\n",
       "    </tr>\n",
       "    <tr>\n",
       "      <th>3997</th>\n",
       "      <td>48</td>\n",
       "      <td>0</td>\n",
       "      <td>5</td>\n",
       "      <td>PES1202102875</td>\n",
       "      <td>PES1UG21EE804</td>\n",
       "    </tr>\n",
       "    <tr>\n",
       "      <th>3998</th>\n",
       "      <td>49</td>\n",
       "      <td>0</td>\n",
       "      <td>19</td>\n",
       "      <td>PES1202102875</td>\n",
       "      <td>PES1UG21EE804</td>\n",
       "    </tr>\n",
       "    <tr>\n",
       "      <th>3999</th>\n",
       "      <td>50</td>\n",
       "      <td>1</td>\n",
       "      <td>6</td>\n",
       "      <td>PES1202102875</td>\n",
       "      <td>PES1UG21EE804</td>\n",
       "    </tr>\n",
       "  </tbody>\n",
       "</table>\n",
       "<p>100 rows × 5 columns</p>\n",
       "</div>"
      ],
      "text/plain": [
       "       QuestionSerialNumber   StudentScore   TimeSpentInSeconds  \\\n",
       "3600                      1              1                   62   \n",
       "3601                      2              0                  123   \n",
       "3602                      3              1                   25   \n",
       "3603                      4              1                   46   \n",
       "3604                      5              1                  104   \n",
       "...                     ...            ...                  ...   \n",
       "3995                     46              1                   56   \n",
       "3996                     47              0                   21   \n",
       "3997                     48              0                    5   \n",
       "3998                     49              0                   19   \n",
       "3999                     50              1                    6   \n",
       "\n",
       "            LoginId            srn  \n",
       "3600  PES1202102674  PES1UG21EE803  \n",
       "3601  PES1202102674  PES1UG21EE803  \n",
       "3602  PES1202102674  PES1UG21EE803  \n",
       "3603  PES1202102674  PES1UG21EE803  \n",
       "3604  PES1202102674  PES1UG21EE803  \n",
       "...             ...            ...  \n",
       "3995  PES1202102875  PES1UG21EE804  \n",
       "3996  PES1202102875  PES1UG21EE804  \n",
       "3997  PES1202102875  PES1UG21EE804  \n",
       "3998  PES1202102875  PES1UG21EE804  \n",
       "3999  PES1202102875  PES1UG21EE804  \n",
       "\n",
       "[100 rows x 5 columns]"
      ]
     },
     "execution_count": 101,
     "metadata": {},
     "output_type": "execute_result"
    }
   ],
   "source": [
    "EE_df = df[df.srn.str.contains(\"EE\", case = False)].copy(deep = True)\n",
    "EE_df"
   ]
  },
  {
   "cell_type": "code",
   "execution_count": 102,
   "metadata": {},
   "outputs": [
    {
     "name": "stdout",
     "output_type": "stream",
     "text": [
      "The number of EE students who took the test = 2\n"
     ]
    }
   ],
   "source": [
    "unique__EE_SRN = EE_df[\"srn\"].unique()\n",
    "print(\"The number of EE students who took the test = \" +  str(len(unique__EE_SRN)))"
   ]
  },
  {
   "cell_type": "code",
   "execution_count": 103,
   "metadata": {},
   "outputs": [
    {
     "data": {
      "text/plain": [
       "'0:34:21'"
      ]
     },
     "execution_count": 103,
     "metadata": {},
     "output_type": "execute_result"
    }
   ],
   "source": [
    "ee_time = EE_df[\" TimeSpentInSeconds\"].sum()\n",
    "ee_time_in_sec = ee_time/len(unique__EE_SRN)\n",
    "convert(ee_time_in_sec)"
   ]
  },
  {
   "cell_type": "code",
   "execution_count": 104,
   "metadata": {},
   "outputs": [
    {
     "data": {
      "text/plain": [
       "24.5"
      ]
     },
     "execution_count": 104,
     "metadata": {},
     "output_type": "execute_result"
    }
   ],
   "source": [
    "ee_total_score = EE_df[\" StudentScore\"].sum()\n",
    "ee_average_score = round(ee_total_score/len(unique__EE_SRN),2)\n",
    "ee_average_score"
   ]
  },
  {
   "cell_type": "code",
   "execution_count": 105,
   "metadata": {},
   "outputs": [
    {
     "name": "stderr",
     "output_type": "stream",
     "text": [
      "C:\\Users\\ragha\\AppData\\Local\\Temp\\ipykernel_15488\\3305314139.py:1: FutureWarning: The default value of numeric_only in DataFrameGroupBy.sum is deprecated. In a future version, numeric_only will default to False. Either specify numeric_only or select only columns which should be valid for the function.\n",
      "  ee_df_g = EE_df.groupby(\" LoginId\", as_index = False ).sum()\n"
     ]
    },
    {
     "data": {
      "text/plain": [
       " LoginId               PES1202102674\n",
       " StudentScore                     32\n",
       " TimeSpentInSeconds             2633\n",
       "Name: 0, dtype: object"
      ]
     },
     "execution_count": 105,
     "metadata": {},
     "output_type": "execute_result"
    }
   ],
   "source": [
    "ee_df_g = EE_df.groupby(\" LoginId\", as_index = False ).sum()\n",
    "#bc_df_g\n",
    "ee_df_g = ee_df_g.drop(columns = [\" QuestionSerialNumber\"])\n",
    "\n",
    "ee_top_scorer = ee_df_g.loc[ee_df_g[\" StudentScore\"].idxmax()]\n",
    "ee_top_scorer"
   ]
  },
  {
   "cell_type": "code",
   "execution_count": 106,
   "metadata": {},
   "outputs": [
    {
     "data": {
      "text/plain": [
       " LoginId               PES1202102875\n",
       " StudentScore                     17\n",
       " TimeSpentInSeconds             1489\n",
       "Name: 1, dtype: object"
      ]
     },
     "execution_count": 106,
     "metadata": {},
     "output_type": "execute_result"
    }
   ],
   "source": [
    "ee_lowest = ee_df_g.loc[ee_df_g[\" StudentScore\"].idxmin()]\n",
    "ee_lowest"
   ]
  },
  {
   "cell_type": "code",
   "execution_count": 107,
   "metadata": {},
   "outputs": [
    {
     "name": "stdout",
     "output_type": "stream",
     "text": [
      "0.9999999999999998\n",
      "There exist a strong linear relationship between time spent and marks scored.\n"
     ]
    }
   ],
   "source": [
    "ee_corrcoeff = np.corrcoef(ee_df_g[\" TimeSpentInSeconds\"], ee_df_g[\" StudentScore\"])\n",
    "ee_pcc = ee_corrcoeff[0][1]\n",
    "print(ee_pcc)\n",
    "if ee_pcc > -0.2 and ee_pcc < 0.2:\n",
    "    print(\"There exists a weak linear relationship between time spent and marks scored.\")\n",
    "elif (ee_pcc > 0.2 and ee_pcc < 0.7) or (ee_pcc > -0.7 and ee_pcc < -0.2):\n",
    "    print(\"There exists a mild linear realtionship between time spent and marks scored.\")     \n",
    "elif (ee_pcc <= 1 and ee_pcc > 0.7) or (ee_pcc > -1 and ee_pcc < -0.7):\n",
    "    print(\"There exist a strong linear relationship between time spent and marks scored.\")   \n",
    "    "
   ]
  },
  {
   "attachments": {},
   "cell_type": "markdown",
   "metadata": {},
   "source": [
    "EE Report Ends"
   ]
  },
  {
   "attachments": {},
   "cell_type": "markdown",
   "metadata": {},
   "source": [
    "ME Report Begins"
   ]
  },
  {
   "cell_type": "code",
   "execution_count": 108,
   "metadata": {},
   "outputs": [
    {
     "data": {
      "text/html": [
       "<div>\n",
       "<style scoped>\n",
       "    .dataframe tbody tr th:only-of-type {\n",
       "        vertical-align: middle;\n",
       "    }\n",
       "\n",
       "    .dataframe tbody tr th {\n",
       "        vertical-align: top;\n",
       "    }\n",
       "\n",
       "    .dataframe thead th {\n",
       "        text-align: right;\n",
       "    }\n",
       "</style>\n",
       "<table border=\"1\" class=\"dataframe\">\n",
       "  <thead>\n",
       "    <tr style=\"text-align: right;\">\n",
       "      <th></th>\n",
       "      <th>QuestionSerialNumber</th>\n",
       "      <th>StudentScore</th>\n",
       "      <th>TimeSpentInSeconds</th>\n",
       "      <th>LoginId</th>\n",
       "      <th>srn</th>\n",
       "    </tr>\n",
       "  </thead>\n",
       "  <tbody>\n",
       "    <tr>\n",
       "      <th>50</th>\n",
       "      <td>1</td>\n",
       "      <td>1</td>\n",
       "      <td>40</td>\n",
       "      <td>PES1202000818</td>\n",
       "      <td>PES1UG20ME013</td>\n",
       "    </tr>\n",
       "    <tr>\n",
       "      <th>51</th>\n",
       "      <td>2</td>\n",
       "      <td>0</td>\n",
       "      <td>9</td>\n",
       "      <td>PES1202000818</td>\n",
       "      <td>PES1UG20ME013</td>\n",
       "    </tr>\n",
       "    <tr>\n",
       "      <th>52</th>\n",
       "      <td>3</td>\n",
       "      <td>1</td>\n",
       "      <td>105</td>\n",
       "      <td>PES1202000818</td>\n",
       "      <td>PES1UG20ME013</td>\n",
       "    </tr>\n",
       "    <tr>\n",
       "      <th>53</th>\n",
       "      <td>4</td>\n",
       "      <td>1</td>\n",
       "      <td>101</td>\n",
       "      <td>PES1202000818</td>\n",
       "      <td>PES1UG20ME013</td>\n",
       "    </tr>\n",
       "    <tr>\n",
       "      <th>54</th>\n",
       "      <td>5</td>\n",
       "      <td>1</td>\n",
       "      <td>94</td>\n",
       "      <td>PES1202000818</td>\n",
       "      <td>PES1UG20ME013</td>\n",
       "    </tr>\n",
       "    <tr>\n",
       "      <th>...</th>\n",
       "      <td>...</td>\n",
       "      <td>...</td>\n",
       "      <td>...</td>\n",
       "      <td>...</td>\n",
       "      <td>...</td>\n",
       "    </tr>\n",
       "    <tr>\n",
       "      <th>3945</th>\n",
       "      <td>46</td>\n",
       "      <td>0</td>\n",
       "      <td>1</td>\n",
       "      <td>PES1202102865</td>\n",
       "      <td>PES1UG21ME812</td>\n",
       "    </tr>\n",
       "    <tr>\n",
       "      <th>3946</th>\n",
       "      <td>47</td>\n",
       "      <td>0</td>\n",
       "      <td>16</td>\n",
       "      <td>PES1202102865</td>\n",
       "      <td>PES1UG21ME812</td>\n",
       "    </tr>\n",
       "    <tr>\n",
       "      <th>3947</th>\n",
       "      <td>48</td>\n",
       "      <td>0</td>\n",
       "      <td>89</td>\n",
       "      <td>PES1202102865</td>\n",
       "      <td>PES1UG21ME812</td>\n",
       "    </tr>\n",
       "    <tr>\n",
       "      <th>3948</th>\n",
       "      <td>49</td>\n",
       "      <td>0</td>\n",
       "      <td>23</td>\n",
       "      <td>PES1202102865</td>\n",
       "      <td>PES1UG21ME812</td>\n",
       "    </tr>\n",
       "    <tr>\n",
       "      <th>3949</th>\n",
       "      <td>50</td>\n",
       "      <td>0</td>\n",
       "      <td>62</td>\n",
       "      <td>PES1202102865</td>\n",
       "      <td>PES1UG21ME812</td>\n",
       "    </tr>\n",
       "  </tbody>\n",
       "</table>\n",
       "<p>3650 rows × 5 columns</p>\n",
       "</div>"
      ],
      "text/plain": [
       "       QuestionSerialNumber   StudentScore   TimeSpentInSeconds  \\\n",
       "50                        1              1                   40   \n",
       "51                        2              0                    9   \n",
       "52                        3              1                  105   \n",
       "53                        4              1                  101   \n",
       "54                        5              1                   94   \n",
       "...                     ...            ...                  ...   \n",
       "3945                     46              0                    1   \n",
       "3946                     47              0                   16   \n",
       "3947                     48              0                   89   \n",
       "3948                     49              0                   23   \n",
       "3949                     50              0                   62   \n",
       "\n",
       "            LoginId            srn  \n",
       "50    PES1202000818  PES1UG20ME013  \n",
       "51    PES1202000818  PES1UG20ME013  \n",
       "52    PES1202000818  PES1UG20ME013  \n",
       "53    PES1202000818  PES1UG20ME013  \n",
       "54    PES1202000818  PES1UG20ME013  \n",
       "...             ...            ...  \n",
       "3945  PES1202102865  PES1UG21ME812  \n",
       "3946  PES1202102865  PES1UG21ME812  \n",
       "3947  PES1202102865  PES1UG21ME812  \n",
       "3948  PES1202102865  PES1UG21ME812  \n",
       "3949  PES1202102865  PES1UG21ME812  \n",
       "\n",
       "[3650 rows x 5 columns]"
      ]
     },
     "execution_count": 108,
     "metadata": {},
     "output_type": "execute_result"
    }
   ],
   "source": [
    "ME_df = df[df.srn.str.contains(\"ME\", case = False)].copy(deep = True)\n",
    "ME_df"
   ]
  },
  {
   "cell_type": "code",
   "execution_count": 109,
   "metadata": {},
   "outputs": [
    {
     "name": "stdout",
     "output_type": "stream",
     "text": [
      "The number of ME students who took the test = 73\n"
     ]
    }
   ],
   "source": [
    "unique__ME_SRN = ME_df[\"srn\"].unique()\n",
    "print(\"The number of ME students who took the test = \" +  str(len(unique__ME_SRN)))"
   ]
  },
  {
   "cell_type": "code",
   "execution_count": 110,
   "metadata": {},
   "outputs": [
    {
     "data": {
      "text/plain": [
       "'0:31:51'"
      ]
     },
     "execution_count": 110,
     "metadata": {},
     "output_type": "execute_result"
    }
   ],
   "source": [
    "me_time = ME_df[\" TimeSpentInSeconds\"].sum()\n",
    "me_time_in_sec = me_time/len(unique__ME_SRN)\n",
    "convert(me_time_in_sec)"
   ]
  },
  {
   "cell_type": "code",
   "execution_count": 111,
   "metadata": {},
   "outputs": [
    {
     "data": {
      "text/plain": [
       "21.11"
      ]
     },
     "execution_count": 111,
     "metadata": {},
     "output_type": "execute_result"
    }
   ],
   "source": [
    "me_total_score = ME_df[\" StudentScore\"].sum()\n",
    "me_average_score = round(me_total_score/len(unique__ME_SRN),2)\n",
    "me_average_score"
   ]
  },
  {
   "cell_type": "code",
   "execution_count": 112,
   "metadata": {},
   "outputs": [
    {
     "name": "stderr",
     "output_type": "stream",
     "text": [
      "C:\\Users\\ragha\\AppData\\Local\\Temp\\ipykernel_15488\\777761913.py:1: FutureWarning: The default value of numeric_only in DataFrameGroupBy.sum is deprecated. In a future version, numeric_only will default to False. Either specify numeric_only or select only columns which should be valid for the function.\n",
      "  me_df_g = ME_df.groupby(\" LoginId\", as_index = False ).sum()\n"
     ]
    },
    {
     "data": {
      "text/plain": [
       " LoginId               PES1202000927\n",
       " StudentScore                     37\n",
       " TimeSpentInSeconds             2739\n",
       "Name: 1, dtype: object"
      ]
     },
     "execution_count": 112,
     "metadata": {},
     "output_type": "execute_result"
    }
   ],
   "source": [
    "me_df_g = ME_df.groupby(\" LoginId\", as_index = False ).sum()\n",
    "#bc_df_g\n",
    "me_df_g = me_df_g.drop(columns = [\" QuestionSerialNumber\"])\n",
    "\n",
    "me_top_scorer = me_df_g.loc[me_df_g[\" StudentScore\"].idxmax()]\n",
    "me_top_scorer"
   ]
  },
  {
   "cell_type": "code",
   "execution_count": 113,
   "metadata": {},
   "outputs": [
    {
     "data": {
      "text/plain": [
       " LoginId               PES1202001943\n",
       " StudentScore                      5\n",
       " TimeSpentInSeconds              359\n",
       "Name: 57, dtype: object"
      ]
     },
     "execution_count": 113,
     "metadata": {},
     "output_type": "execute_result"
    }
   ],
   "source": [
    "me_lowest = me_df_g.loc[me_df_g[\" StudentScore\"].idxmin()]\n",
    "me_lowest"
   ]
  },
  {
   "cell_type": "code",
   "execution_count": 114,
   "metadata": {},
   "outputs": [
    {
     "name": "stdout",
     "output_type": "stream",
     "text": [
      "0.49771302454204147\n",
      "There exists a mild linear realtionship between time spent and marks scored.\n"
     ]
    }
   ],
   "source": [
    "me_corrcoeff = np.corrcoef(me_df_g[\" TimeSpentInSeconds\"], me_df_g[\" StudentScore\"])\n",
    "me_pcc = me_corrcoeff[0][1]\n",
    "print(me_pcc)\n",
    "if me_pcc > -0.2 and me_pcc < 0.2:\n",
    "    print(\"There exists a weak linear relationship between time spent and marks scored.\")\n",
    "elif (me_pcc > 0.2 and me_pcc < 0.7) or (me_pcc > -0.7 and me_pcc < -0.2):\n",
    "    print(\"There exists a mild linear realtionship between time spent and marks scored.\")     \n",
    "elif (me_pcc <= 1 and me_pcc > 0.7) or (me_pcc > -1 and me_pcc < -0.7):\n",
    "    print(\"There exist a strong linear relationship between time spent and marks scored.\")   \n",
    "    "
   ]
  },
  {
   "attachments": {},
   "cell_type": "markdown",
   "metadata": {},
   "source": [
    "ME Report Ends"
   ]
  },
  {
   "attachments": {},
   "cell_type": "markdown",
   "metadata": {},
   "source": [
    "Graphs"
   ]
  },
  {
   "cell_type": "code",
   "execution_count": 115,
   "metadata": {},
   "outputs": [
    {
     "data": {
      "image/png": "[encoded data removed]",
      "text/plain": [
       "<Figure size 640x480 with 1 Axes>"
      ]
     },
     "metadata": {},
     "output_type": "display_data"
    }
   ],
   "source": [
    "import matplotlib.pyplot as plt\n",
    "\n",
    "chart = np.array([cs_attendance, ec_attendance, ee_attendance, me_attendance, bt_attendance])\n",
    "branch_label = [\"CS\", \"EC\", \"EE\", \"ME\", \"BT\"]\n",
    "plt.pie(chart, labels = branch_label)\n",
    "plt.show()"
   ]
  },
  {
   "cell_type": "code",
   "execution_count": 121,
   "metadata": {},
   "outputs": [
    {
     "data": {
      "image/png": "[encoded data removed]",
      "text/plain": [
       "<Figure size 640x480 with 1 Axes>"
      ]
     },
     "metadata": {},
     "output_type": "display_data"
    }
   ],
   "source": [
    "highest = [cs_top_scorer[1], ec_top_scorer[1], ee_top_scorer[1], me_top_scorer[1]]\n",
    "average = [cs_average_score, ec_average_score, ee_average_score, me_average_score]\n",
    "\n",
    "n = 4\n",
    "r =np.arange(n)\n",
    "width = 0.25\n",
    "plt.bar(r, average, color = \"darkblue\", width = width, edgecolor = \"black\", label = \"Average\")\n",
    "plt.bar(r + width, highest, color = \"lightblue\", width = width, edgecolor = \"black\", label = \"Highest\")\n",
    "plt.xticks(r + width/2, [\"CS\", \"EC\", \"EE\", \"ME\"])\n",
    "plt.legend()\n",
    "plt.xlabel(\"Branch\")\n",
    "plt.ylabel(\"Student Score\")\n",
    "plt.show()"
   ]
  },
  {
   "attachments": {},
   "cell_type": "markdown",
   "metadata": {},
   "source": [
    "BT Report Begins"
   ]
  },
  {
   "cell_type": "code",
   "execution_count": 117,
   "metadata": {},
   "outputs": [
    {
     "data": {
      "text/html": [
       "<div>\n",
       "<style scoped>\n",
       "    .dataframe tbody tr th:only-of-type {\n",
       "        vertical-align: middle;\n",
       "    }\n",
       "\n",
       "    .dataframe tbody tr th {\n",
       "        vertical-align: top;\n",
       "    }\n",
       "\n",
       "    .dataframe thead th {\n",
       "        text-align: right;\n",
       "    }\n",
       "</style>\n",
       "<table border=\"1\" class=\"dataframe\">\n",
       "  <thead>\n",
       "    <tr style=\"text-align: right;\">\n",
       "      <th></th>\n",
       "      <th>QuestionSerialNumber</th>\n",
       "      <th>StudentScore</th>\n",
       "      <th>TimeSpentInSeconds</th>\n",
       "      <th>LoginId</th>\n",
       "      <th>srn</th>\n",
       "    </tr>\n",
       "  </thead>\n",
       "  <tbody>\n",
       "  </tbody>\n",
       "</table>\n",
       "</div>"
      ],
      "text/plain": [
       "Empty DataFrame\n",
       "Columns: [ QuestionSerialNumber,  StudentScore,  TimeSpentInSeconds,  LoginId, srn]\n",
       "Index: []"
      ]
     },
     "execution_count": 117,
     "metadata": {},
     "output_type": "execute_result"
    }
   ],
   "source": [
    "BT_df = df[df.srn.str.contains(\"BT\", case = False)].copy(deep = True)\n",
    "BT_df"
   ]
  },
  {
   "cell_type": "markdown",
   "metadata": {},
   "source": [
    "Overall Report"
   ]
  },
  {
   "cell_type": "code",
   "execution_count": 118,
   "metadata": {},
   "outputs": [
    {
     "name": "stdout",
     "output_type": "stream",
     "text": [
      "Average = 11.92\n"
     ]
    }
   ],
   "source": [
    "total_average = round((cs_average_score + 0 + ec_average_score + ee_average_score)/4,2)\n",
    "print(\"Average = \" + str(total_average))"
   ]
  },
  {
   "cell_type": "code",
   "execution_count": 119,
   "metadata": {},
   "outputs": [
    {
     "data": {
      "text/plain": [
       "'0:30:02'"
      ]
     },
     "execution_count": 119,
     "metadata": {},
     "output_type": "execute_result"
    }
   ],
   "source": [
    "total_time = df[\" TimeSpentInSeconds\"].sum()\n",
    "avg_time = total_time/len(unique_SRN)\n",
    "convert(avg_time)"
   ]
  },
  {
   "cell_type": "code",
   "execution_count": 120,
   "metadata": {},
   "outputs": [
    {
     "name": "stdout",
     "output_type": "stream",
     "text": [
      "32\n",
      "0\n"
     ]
    }
   ],
   "source": [
    "ovr_highest = max(cs_top_scorer[1], ec_top_scorer[1], ee_top_scorer[1], 0)\n",
    "print(ovr_highest)\n",
    "ovr_lowest = min(cs_lowest[1], ec_lowest[1], ee_lowest[1])\n",
    "print(ovr_lowest)"
   ]
  }
 ],
 "metadata": {
  "kernelspec": {
   "display_name": "Python 3",
   "language": "python",
   "name": "python3"
  },
  "language_info": {
   "codemirror_mode": {
    "name": "ipython",
    "version": 3
   },
   "file_extension": ".py",
   "mimetype": "text/x-python",
   "name": "python",
   "nbconvert_exporter": "python",
   "pygments_lexer": "ipython3",
   "version": "3.10.7"
  },
  "orig_nbformat": 4,
  "vscode": {
   "interpreter": {
    "hash": "910d712d4e5f76353d1f9291f0c7cc989a3c4111caaba5d2f6f0285c3e1ad9f6"
   }
  }
 },
 "nbformat": 4,
 "nbformat_minor": 2
}
